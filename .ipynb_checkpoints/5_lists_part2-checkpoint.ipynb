{
 "cells": [
  {
   "cell_type": "markdown",
   "metadata": {},
   "source": [
    "## Additional things with Python lists\n",
    "\n",
    "### Python list comprehension\n",
    "\n",
    "\n",
    "If you want to compute elements of list, you'd typically create an empty list and then append elements one by one with a for loop. List comprehension is an easier way to create list easily. "
   ]
  },
  {
   "cell_type": "code",
   "execution_count": 1,
   "metadata": {},
   "outputs": [],
   "source": [
    "squares = []\n",
    "for i in range(0, 10):\n",
    "    squares.append(i*i)"
   ]
  },
  {
   "cell_type": "code",
   "execution_count": 2,
   "metadata": {},
   "outputs": [
    {
     "data": {
      "text/plain": [
       "[0, 1, 4, 9, 16, 25, 36, 49, 64, 81]"
      ]
     },
     "execution_count": 2,
     "metadata": {},
     "output_type": "execute_result"
    }
   ],
   "source": [
    "squares"
   ]
  },
  {
   "cell_type": "markdown",
   "metadata": {},
   "source": [
    "### The above for-loop way of appending elements to a list can be simplified using list comprehension."
   ]
  },
  {
   "cell_type": "code",
   "execution_count": 3,
   "metadata": {},
   "outputs": [
    {
     "name": "stdout",
     "output_type": "stream",
     "text": [
      "[0, 1, 4, 9, 16, 25, 36, 49, 64, 81]\n"
     ]
    }
   ],
   "source": [
    "# create squares list with list comprehension\n",
    "\n",
    "squares = [i*i for i in range(0, 10)]\n",
    "print(squares)"
   ]
  },
  {
   "cell_type": "markdown",
   "metadata": {},
   "source": [
    "## List comprehension with filtering\n",
    "\n",
    "Suppose you're create an empty list and append elements by a for-loop. That for-loop may have if condition to filter certain elements. Example:\n",
    "\n",
    "```python\n",
    "    odd_squares = []\n",
    "    for i in range(0, 10):\n",
    "        if (i*i) % 2 != 0:\n",
    "            odd_squares.append(i*i)\n",
    "```\n",
    "\n",
    "Then the above can also be written compactly using list-comprehension:\n",
    "\n",
    "```python\n",
    "    odd_squares = [ i*i for i in range(0, 10) if (i*i) % 2 != 0]\n",
    "```"
   ]
  },
  {
   "cell_type": "code",
   "execution_count": 4,
   "metadata": {},
   "outputs": [
    {
     "name": "stdout",
     "output_type": "stream",
     "text": [
      "[1, 9, 25, 49, 81]\n"
     ]
    }
   ],
   "source": [
    "odd_squares = [ i*i for i in range(0, 10) if (i*i) % 2 != 0]\n",
    "print(odd_squares)"
   ]
  },
  {
   "cell_type": "markdown",
   "metadata": {},
   "source": [
    "## List addition or concatenation by + operator\n",
    "\n",
    "Two lists added (to create a new list) using + operator"
   ]
  },
  {
   "cell_type": "code",
   "execution_count": 5,
   "metadata": {},
   "outputs": [
    {
     "name": "stdout",
     "output_type": "stream",
     "text": [
      "[1, 4, 5] [7, 8, 9] [1, 4, 5, 7, 8, 9]\n"
     ]
    }
   ],
   "source": [
    "a = [1, 4, 5]\n",
    "b = [7, 8, 9]\n",
    "c = a + b\n",
    "print(a, b, c)"
   ]
  },
  {
   "cell_type": "markdown",
   "metadata": {},
   "source": [
    "## List multiplication by a integer (list repetition)\n",
    "\n",
    "List can be replicated by multiplying with an integer"
   ]
  },
  {
   "cell_type": "code",
   "execution_count": 6,
   "metadata": {},
   "outputs": [
    {
     "name": "stdout",
     "output_type": "stream",
     "text": [
      "['java', 'scala', 'ML']\n",
      "['java', 'scala', 'ML', 'java', 'scala', 'ML', 'java', 'scala', 'ML', 'java', 'scala', 'ML', 'java', 'scala', 'ML']\n"
     ]
    }
   ],
   "source": [
    "s = [ \"java\", \"scala\", \"ML\" ]\n",
    "t = 5 * s\n",
    "print(s)\n",
    "print(t)"
   ]
  },
  {
   "cell_type": "code",
   "execution_count": 7,
   "metadata": {},
   "outputs": [
    {
     "name": "stdout",
     "output_type": "stream",
     "text": [
      "['java', 'scala', 'ML', 'java', 'scala', 'ML', 'java', 'scala', 'ML', 'java', 'scala', 'ML', 'java', 'scala', 'ML']\n"
     ]
    }
   ],
   "source": [
    "u = s * 5\n",
    "print(u)"
   ]
  },
  {
   "cell_type": "markdown",
   "metadata": {},
   "source": [
    "## Sorting a list with sort method\n",
    "\n",
    "sort method on list can be used to sort the list"
   ]
  },
  {
   "cell_type": "code",
   "execution_count": 8,
   "metadata": {},
   "outputs": [
    {
     "name": "stdout",
     "output_type": "stream",
     "text": [
      "['java', 'groovy', 'python', 'c', 'c++', 'java']\n",
      "['c', 'c++', 'groovy', 'java', 'java', 'python']\n"
     ]
    }
   ],
   "source": [
    "langs = [\"java\", \"groovy\", \"python\", \"c\", \"c++\", \"java\" ]\n",
    "print(langs)\n",
    "\n",
    "# sort it! This uses \"Tim sort\" which is is a hybrid of merge sort and insertion sort!\n",
    "langs.sort()\n",
    "\n",
    "# print sorted list\n",
    "print(langs)"
   ]
  },
  {
   "cell_type": "markdown",
   "metadata": {},
   "source": [
    "## Checking if an element exists in a list with \"in\" and \"not in\" operators\n",
    "\n",
    "in (not in) operators can be used to check if an elements exits (does not exist) in a list"
   ]
  },
  {
   "cell_type": "code",
   "execution_count": 9,
   "metadata": {},
   "outputs": [
    {
     "name": "stdout",
     "output_type": "stream",
     "text": [
      "True\n",
      "False\n",
      "False\n",
      "True\n"
     ]
    }
   ],
   "source": [
    "langs = [\"java\", \"groovy\", \"python\", \"c\", \"c++\", \"java\" ]\n",
    "\n",
    "print(\"java\" in langs)\n",
    "print(\"smalltalk\" in langs)\n",
    "print(\"lisp\" in langs)\n",
    "print(\"go\" not in langs)"
   ]
  },
  {
   "cell_type": "markdown",
   "metadata": {},
   "source": [
    "## List assignment vs copy (same list or not?)\n",
    "\n",
    "When you assign a list to another, new list refers (points) to the same list. i.e., In C terminology, those point to the same list. Any modification in one list is visible via another.\n",
    "\n",
    "You can check if two lists point to the same object using \"is\" (or \"is not\") operator)"
   ]
  },
  {
   "cell_type": "code",
   "execution_count": 10,
   "metadata": {},
   "outputs": [
    {
     "name": "stdout",
     "output_type": "stream",
     "text": [
      "['java', 'javascript', 'C++']\n",
      "['java', 'javascript', 'C++']\n"
     ]
    }
   ],
   "source": [
    "s = [\"java\", \"javascript\", \"C++\"]\n",
    "t = s\n",
    "print(s)\n",
    "print(t)"
   ]
  },
  {
   "cell_type": "code",
   "execution_count": 11,
   "metadata": {},
   "outputs": [
    {
     "data": {
      "text/plain": [
       "True"
      ]
     },
     "execution_count": 11,
     "metadata": {},
     "output_type": "execute_result"
    }
   ],
   "source": [
    "s is t"
   ]
  },
  {
   "cell_type": "code",
   "execution_count": 12,
   "metadata": {},
   "outputs": [
    {
     "name": "stdout",
     "output_type": "stream",
     "text": [
      "Java\n",
      "Java\n"
     ]
    }
   ],
   "source": [
    "s[0] = s[0].capitalize()\n",
    "\n",
    "print(s[0])\n",
    "\n",
    "# t points to the same! t[0] is changed as well\n",
    "\n",
    "print(t[0])"
   ]
  },
  {
   "cell_type": "markdown",
   "metadata": {},
   "source": [
    "## if you want to create new list that has same elements, then you should use \"copy\" method"
   ]
  },
  {
   "cell_type": "code",
   "execution_count": 13,
   "metadata": {},
   "outputs": [
    {
     "name": "stdout",
     "output_type": "stream",
     "text": [
      "[1, 3, 5]\n",
      "[1, 3, 5]\n"
     ]
    }
   ],
   "source": [
    "s = [ 1, 3, 5 ]\n",
    "t = s.copy()\n",
    "print(s)\n",
    "print(t)"
   ]
  },
  {
   "cell_type": "code",
   "execution_count": 14,
   "metadata": {},
   "outputs": [
    {
     "data": {
      "text/plain": [
       "False"
      ]
     },
     "execution_count": 14,
     "metadata": {},
     "output_type": "execute_result"
    }
   ],
   "source": [
    "# s and t are different lists now\n",
    "s is t"
   ]
  },
  {
   "cell_type": "code",
   "execution_count": 15,
   "metadata": {},
   "outputs": [
    {
     "data": {
      "text/plain": [
       "True"
      ]
     },
     "execution_count": 15,
     "metadata": {},
     "output_type": "execute_result"
    }
   ],
   "source": [
    "s is not t"
   ]
  },
  {
   "cell_type": "code",
   "execution_count": 16,
   "metadata": {},
   "outputs": [
    {
     "name": "stdout",
     "output_type": "stream",
     "text": [
      "42 1\n"
     ]
    }
   ],
   "source": [
    "s[0] = 42\n",
    "print(s[0], t[0])"
   ]
  }
 ],
 "metadata": {
  "kernelspec": {
   "display_name": "Python 3 (ipykernel)",
   "language": "python",
   "name": "python3"
  },
  "language_info": {
   "codemirror_mode": {
    "name": "ipython",
    "version": 3
   },
   "file_extension": ".py",
   "mimetype": "text/x-python",
   "name": "python",
   "nbconvert_exporter": "python",
   "pygments_lexer": "ipython3",
   "version": "3.9.12"
  }
 },
 "nbformat": 4,
 "nbformat_minor": 2
}
