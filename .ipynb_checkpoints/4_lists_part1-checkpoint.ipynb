{
 "cells": [
  {
   "cell_type": "markdown",
   "metadata": {},
   "source": [
    "## Python collections\n",
    "\n",
    "Collections are data structures to hold a collection of values or objects - collection of numbers, collection of strings, collection of objects of user-defined classes, collection of collections etc.\n",
    "\n",
    "\n",
    "There are many different collection data structures available - optimized for various purposes. Mutable/immutable, unique/duplicate elements, element access (by key/index), elements access order are few of the dimensions by which collections could vary.\n",
    "\n",
    "Important Python collections are:\n",
    "\n",
    "    * list\n",
    "    * set\n",
    "    * tuple\n",
    "    * dictionary\n",
    "    \n",
    "In this notebook, we learn about Python lists"
   ]
  },
  {
   "cell_type": "markdown",
   "metadata": {},
   "source": [
    "## Python List\n",
    "\n",
    "Python list is growable array of values/objects. List elements are stored continuously (access/update of element is O(1)). List elements can be added /modified or deleted (mutuable data structure) after list creation. The closest to Python list in C++ would be std::vector (which is also a growable array of elements/objects).\n",
    "\n",
    "Two simples ways to create a list are:\n",
    "\n",
    "        * Using list literal syntax\n",
    "        * using list constructor explicitly"
   ]
  },
  {
   "cell_type": "code",
   "execution_count": 95,
   "metadata": {},
   "outputs": [
    {
     "name": "stdout",
     "output_type": "stream",
     "text": [
      "[34, 6, 77, 34]\n",
      "['oracle', 'google', 'amazon', 'microsoft', 'ibm']\n"
     ]
    }
   ],
   "source": [
    "# creating lists by list literals\n",
    "# simple list of 4 numbers\n",
    "\n",
    "x = [34, 6, 77, 34]\n",
    "\n",
    "# simple list of 5 strings\n",
    "\n",
    "y = [\"oracle\", \"google\", \"amazon\", \"microsoft\", \"ibm\"]\n",
    "\n",
    "print(x)\n",
    "print(y)"
   ]
  },
  {
   "cell_type": "code",
   "execution_count": 96,
   "metadata": {},
   "outputs": [
    {
     "name": "stdout",
     "output_type": "stream",
     "text": [
      "[34, 'hello']\n"
     ]
    }
   ],
   "source": [
    "# create an empty list by invoking list constructor function\n",
    "\n",
    "z = list()\n",
    "\n",
    "# now append elements to the list by using append method\n",
    "\n",
    "z.append(34)\n",
    "\n",
    "# elements need not be same type. Append a string now\n",
    "z.append(\"hello\")\n",
    "\n",
    "print(z)"
   ]
  },
  {
   "cell_type": "code",
   "execution_count": 97,
   "metadata": {},
   "outputs": [
    {
     "name": "stdout",
     "output_type": "stream",
     "text": [
      "[0, 2, 4, 6, 8]\n"
     ]
    }
   ],
   "source": [
    "# create a list from another collection or iteratable object like range\n",
    "\n",
    "# list of integers in [0, 10) in steps of 2\n",
    "\n",
    "x = list(range(0, 10, 2))\n",
    "print(x)"
   ]
  },
  {
   "cell_type": "code",
   "execution_count": 98,
   "metadata": {},
   "outputs": [
    {
     "name": "stdout",
     "output_type": "stream",
     "text": [
      "['h', 'e', 'l', 'l', 'o']\n"
     ]
    }
   ],
   "source": [
    "# string is a sort of \"array of characters\" and so you can create\n",
    "# list of characters from it using list constructor with a string!\n",
    "\n",
    "x = list(\"hello\")\n",
    "print(x)"
   ]
  },
  {
   "cell_type": "markdown",
   "metadata": {},
   "source": [
    "## Python list elements access/update\n",
    "\n",
    "Python list elements are accessed or updated using index operator []. This is much like C/C++ array element access/update. Just like C/C++, list element index ranges from 0 to N-1 where N is the size of the list (zero-based indexing). In python, index can be negative! It just means that you're accessing from the end. i.e., if negative index, add length of the list to it to make it positive!"
   ]
  },
  {
   "cell_type": "code",
   "execution_count": 99,
   "metadata": {},
   "outputs": [
    {
     "name": "stdout",
     "output_type": "stream",
     "text": [
      "4\n",
      "first element: 3\n"
     ]
    }
   ],
   "source": [
    "# len can be used to get the length of the list\n",
    "\n",
    "x = [3, 5, 77, 23]\n",
    "print(len(x))\n",
    "print(\"first element:\", x[0])"
   ]
  },
  {
   "cell_type": "code",
   "execution_count": 100,
   "metadata": {},
   "outputs": [
    {
     "name": "stdout",
     "output_type": "stream",
     "text": [
      "77\n"
     ]
    }
   ],
   "source": [
    "print(x[2])"
   ]
  },
  {
   "cell_type": "code",
   "execution_count": 101,
   "metadata": {},
   "outputs": [
    {
     "name": "stdout",
     "output_type": "stream",
     "text": [
      "23\n"
     ]
    }
   ],
   "source": [
    "print(x[-1])"
   ]
  },
  {
   "cell_type": "code",
   "execution_count": 102,
   "metadata": {},
   "outputs": [
    {
     "data": {
      "text/plain": [
       "True"
      ]
     },
     "execution_count": 102,
     "metadata": {},
     "output_type": "execute_result"
    }
   ],
   "source": [
    "# access last element in two ways\n",
    "\n",
    "x[-1] == x[len(x) - 1]"
   ]
  },
  {
   "cell_type": "code",
   "execution_count": 103,
   "metadata": {},
   "outputs": [
    {
     "name": "stdout",
     "output_type": "stream",
     "text": [
      "['hello', 5, 77, 'world']\n"
     ]
    }
   ],
   "source": [
    "# update first element\n",
    "x[0] = \"hello\"\n",
    "\n",
    "# update last element\n",
    "x[-1] = \"world\"\n",
    "\n",
    "print(x)"
   ]
  },
  {
   "cell_type": "markdown",
   "metadata": {},
   "source": [
    "## Accessing all elements of a list in order\n",
    "\n",
    "Accessing all elements of a list in the order of storage (also called \"iterating a list\") can be done using a for loop\n",
    "\n",
    "```python\n",
    "\n",
    "# print square of every element of the list\n",
    "\n",
    "for i in some_list:\n",
    "    # i is the next element in the list\n",
    "    print(i*i)\n",
    "    \n",
    "```\n"
   ]
  },
  {
   "cell_type": "code",
   "execution_count": 104,
   "metadata": {},
   "outputs": [
    {
     "name": "stdout",
     "output_type": "stream",
     "text": [
      "0 0\n",
      "1 1\n",
      "2 4\n",
      "3 9\n",
      "4 16\n",
      "5 25\n",
      "6 36\n",
      "7 49\n",
      "8 64\n",
      "9 81\n"
     ]
    }
   ],
   "source": [
    "x = list(range(0, 10))\n",
    "\n",
    "# print list element and its square in each line\n",
    "\n",
    "for i in x:\n",
    "    print(i, i*i)"
   ]
  },
  {
   "cell_type": "markdown",
   "metadata": {},
   "source": [
    "## List slicing - creating a sublist from a list\n",
    "\n",
    "\n",
    "We can create a sublist from a list (i.e., a new list containing a subset of elements of the original list) using list slicing"
   ]
  },
  {
   "cell_type": "code",
   "execution_count": 105,
   "metadata": {},
   "outputs": [
    {
     "name": "stdout",
     "output_type": "stream",
     "text": [
      "evens = [0, 2, 4, 6, 8, 10, 12, 14, 16, 18, 20, 22, 24, 26, 28, 30, 32, 34, 36, 38, 40, 42, 44, 46, 48, 50, 52, 54, 56, 58, 60, 62, 64, 66, 68, 70, 72, 74, 76, 78, 80, 82, 84, 86, 88, 90, 92, 94, 96, 98]\n",
      "odds = [1, 3, 5, 7, 9, 11, 13, 15, 17, 19, 21, 23, 25, 27, 29, 31, 33, 35, 37, 39, 41, 43, 45, 47, 49, 51, 53, 55, 57, 59, 61, 63, 65, 67, 69, 71, 73, 75, 77, 79, 81, 83, 85, 87, 89, 91, 93, 95, 97, 99]\n"
     ]
    }
   ],
   "source": [
    "# List slicing syntax. Uses same [] operator but with slice \n",
    "# a slice has start, stop and step\n",
    "\n",
    "# make a list of numbers 0 to 99 closed interval [0, 99]\n",
    "x = list(range(0, 100))\n",
    "\n",
    "# create even numbers list\n",
    "\n",
    "evens = x[0:100:2]\n",
    "\n",
    "print(\"evens =\", evens)\n",
    "\n",
    "# create odd numbers list\n",
    "\n",
    "odds = x[1:100:2]\n",
    "\n",
    "print(\"odds =\", odds)\n"
   ]
  },
  {
   "cell_type": "markdown",
   "metadata": {},
   "source": [
    "You can omit items from a slice specification. If start is omitted, it is defaulted to 0. If stop is omitted, it is defaulted to length of the list. If step is omitted, it is defaulted to 1\n",
    "\n",
    "```python\n",
    "x = list(range(0, 100))\n",
    "\n",
    "print(\"divisible by 5 =\", x[::5])\n",
    "```"
   ]
  },
  {
   "cell_type": "code",
   "execution_count": 106,
   "metadata": {},
   "outputs": [
    {
     "name": "stdout",
     "output_type": "stream",
     "text": [
      "divisible by 5 = [0, 5, 10, 15, 20, 25, 30, 35, 40, 45, 50, 55, 60, 65, 70, 75, 80, 85, 90, 95]\n"
     ]
    }
   ],
   "source": [
    "x = list(range(0, 100))\n",
    "\n",
    "# default start 0 and default stop len(x)\n",
    "print(\"divisible by 5 =\", x[::5])"
   ]
  },
  {
   "cell_type": "code",
   "execution_count": 107,
   "metadata": {},
   "outputs": [
    {
     "name": "stdout",
     "output_type": "stream",
     "text": [
      "[99, 98, 97, 96, 95, 94, 93, 92, 91, 90, 89, 88, 87, 86, 85, 84, 83, 82, 81, 80, 79, 78, 77, 76, 75, 74, 73, 72, 71, 70, 69, 68, 67, 66, 65, 64, 63, 62, 61, 60, 59, 58, 57, 56, 55, 54, 53, 52, 51, 50, 49, 48, 47, 46, 45, 44, 43, 42, 41, 40, 39, 38, 37, 36, 35, 34, 33, 32, 31, 30, 29, 28, 27, 26, 25, 24, 23, 22, 21, 20, 19, 18, 17, 16, 15, 14, 13, 12, 11, 10, 9, 8, 7, 6, 5, 4, 3, 2, 1, 0]\n"
     ]
    }
   ],
   "source": [
    "# step can be negative. When step is negative, start defaults to len(x), stop defaults to 0\n",
    "\n",
    "# the following prints a reverse list!\n",
    "print(x[::-1])"
   ]
  },
  {
   "cell_type": "markdown",
   "metadata": {},
   "source": [
    "## Deleting a list element using \"del\" statement\n",
    "\n",
    "    del statement can be used to delete an element from list or delete slice of elements"
   ]
  },
  {
   "cell_type": "code",
   "execution_count": 108,
   "metadata": {},
   "outputs": [
    {
     "name": "stdout",
     "output_type": "stream",
     "text": [
      "[1, 2, 3, 4, 5, 6, 7, 8, 9, 10, 11, 12, 13, 14, 15, 16, 17, 18, 19, 20, 21, 22, 23, 24, 25, 26, 27, 28, 29, 30, 31, 32, 33, 34, 35, 36, 37, 38, 39, 40, 41, 42, 43, 44, 45, 46, 47, 48, 49, 50, 51, 52, 53, 54, 55, 56, 57, 58, 59, 60, 61, 62, 63, 64, 65, 66, 67, 68, 69, 70, 71, 72, 73, 74, 75, 76, 77, 78, 79, 80, 81, 82, 83, 84, 85, 86, 87, 88, 89, 90, 91, 92, 93, 94, 95, 96, 97, 98, 99]\n"
     ]
    }
   ],
   "source": [
    "del x[0]\n",
    "print(x)"
   ]
  },
  {
   "cell_type": "code",
   "execution_count": 109,
   "metadata": {},
   "outputs": [
    {
     "name": "stdout",
     "output_type": "stream",
     "text": [
      "[1, 2, 3, 4, 5, 6, 7, 8, 9, 10, 11, 12, 13, 14, 15, 16, 17, 18, 19, 20, 21, 22, 23, 24, 25, 26, 27, 28, 29, 30, 31, 32, 33, 34, 35, 36, 37, 38, 39, 40, 41, 42, 43, 44, 45, 46, 47, 48, 49, 50, 51, 52, 53, 54, 55, 56, 57, 58, 59, 60, 61, 62, 63, 64, 65, 66, 67, 68, 69, 70, 71, 72, 73, 74, 75, 76, 77, 78, 79, 80, 81, 82, 83, 84, 85, 86, 87, 88, 89, 90, 91, 92, 93, 94, 95, 96, 97, 98]\n"
     ]
    }
   ],
   "source": [
    "del x[-1]\n",
    "print(x)"
   ]
  },
  {
   "cell_type": "code",
   "execution_count": 110,
   "metadata": {},
   "outputs": [
    {
     "name": "stdout",
     "output_type": "stream",
     "text": [
      "[1, 2, 8, 9, 10, 11, 12, 13, 14, 15, 16, 17, 18, 19, 20, 21, 22, 23, 24, 25, 26, 27, 28, 29, 30, 31, 32, 33, 34, 35, 36, 37, 38, 39, 40, 41, 42, 43, 44, 45, 46, 47, 48, 49, 50, 51, 52, 53, 54, 55, 56, 57, 58, 59, 60, 61, 62, 63, 64, 65, 66, 67, 68, 69, 70, 71, 72, 73, 74, 75, 76, 77, 78, 79, 80, 81, 82, 83, 84, 85, 86, 87, 88, 89, 90, 91, 92, 93, 94, 95, 96, 97, 98]\n"
     ]
    }
   ],
   "source": [
    "# can delete a slice of elements as well!\n",
    "\n",
    "del x[2:7]\n",
    "print(x)"
   ]
  },
  {
   "cell_type": "markdown",
   "metadata": {},
   "source": [
    "## Important list methods\n",
    "\n",
    "    * append\n",
    "        to add an element to the list at the end\n",
    "    * extend\n",
    "        add a list (or some collection) of elements at the end of the list\n",
    "    * insert\n",
    "        insert an element to the list at the specified index\n",
    "    * remove\n",
    "        remove an element from the list. Remove the first item from the list whose value is x.\n",
    "        It is an error if there is no such item.\n",
    "    * pop\n",
    "        remove the last element of the list (and return it)\n",
    "    * index\n",
    "        return the index of the first matching element. -1 if no such element is present in the list\n",
    "    * count\n",
    "        return the count of times a particular element is present in the list"
   ]
  },
  {
   "cell_type": "code",
   "execution_count": 111,
   "metadata": {},
   "outputs": [
    {
     "name": "stdout",
     "output_type": "stream",
     "text": [
      "['java']\n",
      "['java', 'c++', 'python']\n"
     ]
    }
   ],
   "source": [
    "x = [\"java\"]\n",
    "print(x)\n",
    "\n",
    "# add single object at the end of the list\n",
    "x.append(\"c++\")\n",
    "\n",
    "# add single object at the end of the list\n",
    "x.append(\"python\")\n",
    "\n",
    "print(x)"
   ]
  },
  {
   "cell_type": "code",
   "execution_count": 112,
   "metadata": {},
   "outputs": [
    {
     "name": "stdout",
     "output_type": "stream",
     "text": [
      "['java', 'c++', 'python', 'Haskell', 'ML', 'OCaml', 'Scheme']\n"
     ]
    }
   ],
   "source": [
    "# add all elements from another list/collection at the end\n",
    "\n",
    "other_langs = [\"Haskell\", \"ML\", \"OCaml\", \"Scheme\"]\n",
    "x.extend(other_langs)\n",
    "print(x)"
   ]
  },
  {
   "cell_type": "code",
   "execution_count": 113,
   "metadata": {},
   "outputs": [
    {
     "name": "stdout",
     "output_type": "stream",
     "text": [
      "['java', 'c++', 'python', 'c', 'Haskell', 'ML', 'OCaml', 'Scheme', 'javascript']\n"
     ]
    }
   ],
   "source": [
    "# insert a new element at specified index\n",
    "\n",
    "x.insert(3, \"c\")\n",
    "# insert at the end - same as append\n",
    "x.insert(len(x), \"javascript\")\n",
    "print(x)"
   ]
  },
  {
   "cell_type": "code",
   "execution_count": 114,
   "metadata": {},
   "outputs": [
    {
     "name": "stdout",
     "output_type": "stream",
     "text": [
      "javascript\n",
      "['java', 'c++', 'python', 'c', 'Haskell', 'ML', 'OCaml', 'Scheme']\n"
     ]
    }
   ],
   "source": [
    "# remove the last element and return it\n",
    "\n",
    "print(x.pop())\n",
    "print(x)"
   ]
  },
  {
   "cell_type": "code",
   "execution_count": 115,
   "metadata": {},
   "outputs": [
    {
     "name": "stdout",
     "output_type": "stream",
     "text": [
      "5\n"
     ]
    }
   ],
   "source": [
    "# get the index of the element \"ML\"\n",
    "print(x.index(\"ML\"))"
   ]
  },
  {
   "cell_type": "code",
   "execution_count": 116,
   "metadata": {},
   "outputs": [
    {
     "name": "stdout",
     "output_type": "stream",
     "text": [
      "2\n"
     ]
    }
   ],
   "source": [
    "x.append(\"java\")\n",
    "\n",
    "# count the times a particular element occurs in the list\n",
    "print(x.count(\"java\"))"
   ]
  },
  {
   "cell_type": "markdown",
   "metadata": {},
   "source": [
    "## Using Python list as a stack\n",
    "\n",
    "A stack is a data structure in which elements added from one end and removed & accessed from the same end. Stack is \"last in first out\" (LIFO) queue of items. Consider an example of plates stacked over one another in the canteen. The plate which is at the top is the first one to be removed, i.e. the plate which has been placed at the bottommost position remains in the stack for the longest period of time.\n",
    "\n",
    "\n",
    "A stack has the following four operations:\n",
    "    \n",
    "    * push\n",
    "        add an element at the end of the stack\n",
    "    * pop\n",
    "        remove the last element and return it (last pushed element is removed & returned)\n",
    "    * isempty\n",
    "        tells whether the stack empty?\n",
    "    * peek\n",
    "        get the last element, if any, but do not remove it from stack\n",
    "        \n",
    "We can use Python list as a stack. List supports pop method already. isempty check is just len(mylist) being non-zero or zero. push is just \"append\"! \"peek\" is just accessing last element using\n",
    "\n",
    "    mylist[ len(mylist) - 1 ]\n",
    "\n",
    "or simply\n",
    "\n",
    "    mylist[-1]"
   ]
  },
  {
   "cell_type": "code",
   "execution_count": 117,
   "metadata": {},
   "outputs": [
    {
     "name": "stdout",
     "output_type": "stream",
     "text": [
      "['Amar', 'Akbar', 'Anthony', 'Ram', 'Iqbal']\n",
      "Iqbal\n",
      "['Amar', 'Akbar', 'Anthony', 'Ram']\n",
      "Ram\n",
      "['Amar', 'Akbar', 'Anthony']\n",
      "empty? False\n",
      "Anthony\n"
     ]
    }
   ],
   "source": [
    "# list as a stack\n",
    "\n",
    "\n",
    "stack = [\"Amar\", \"Akbar\", \"Anthony\"] \n",
    "\n",
    "# append is our push\n",
    "stack.append(\"Ram\") \n",
    "stack.append(\"Iqbal\") \n",
    "print(stack) \n",
    "\n",
    "# pop is available as API already!\n",
    "print(stack.pop())\n",
    "print(stack) \n",
    "\n",
    "print(stack.pop()) \n",
    "print(stack) \n",
    "\n",
    "# stack isempty check is nothing but length check!\n",
    "print(\"empty?\", len(stack) == 0)\n",
    "\n",
    "# peek is just looking (without removing) the last element\n",
    "print(stack[-1])"
   ]
  }
 ],
 "metadata": {
  "kernelspec": {
   "display_name": "Python 3 (ipykernel)",
   "language": "python",
   "name": "python3"
  },
  "language_info": {
   "codemirror_mode": {
    "name": "ipython",
    "version": 3
   },
   "file_extension": ".py",
   "mimetype": "text/x-python",
   "name": "python",
   "nbconvert_exporter": "python",
   "pygments_lexer": "ipython3",
   "version": "3.9.12"
  }
 },
 "nbformat": 4,
 "nbformat_minor": 2
}
