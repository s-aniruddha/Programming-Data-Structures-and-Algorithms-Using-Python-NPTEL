{
 "cells": [
  {
   "cell_type": "markdown",
   "metadata": {},
   "source": [
    "# Python dictionaries\n",
    "\n",
    "We can view Python list as a function from integer indices to values. A list associates integer index (position index) to values. \n",
    "\n",
    "Let \"s\" be a Python List. 0, 1, 2, ... len(s) are \"keys\" for the repective values s\\[0\\], s\\[1\\], ... s\\[len(l) - 1\\]\n",
    "\n",
    "```python\n",
    "    s = [ \"banana\", \"apple\", \"orange\" ]\n",
    "    # s[0], s[1], s[2] are values against keys 0, 1, 2 respectively\n",
    "```\n",
    "\n",
    "Dictionary (also called Map) is a data structure that allows **arbitrary keys** rather than just integers in range(0, len(s)). Dictionaries can be viewed as **unordered, mutable collection of key-value pairs** where keys can be anything (not just integers). In a way, dictionaries are like mathematical functions that allow domain to be other than a subset of integers. For examples, keys could be strings.\n",
    "\n",
    "Dictionaries are also called **Maps**, **Associative Arrays**. Dictionaries can be used for manipulating text files, table files etc. We use column names a keys. Each \"record\" in a multi-column file will become one dictionary instance. Entire table file can be read as a list of dictionary objects."
   ]
  },
  {
   "cell_type": "code",
   "execution_count": 1,
   "metadata": {},
   "outputs": [
    {
     "name": "stdout",
     "output_type": "stream",
     "text": [
      "{'ani': 19, 'jana': 14}\n"
     ]
    }
   ],
   "source": [
    "# dictionary is initialized with comma separated name:value pairs inside curly braces\n",
    "\n",
    "students = { \"ani\": 19, \"jana\": 14 }\n",
    "\n",
    "print(students)"
   ]
  },
  {
   "cell_type": "code",
   "execution_count": 2,
   "metadata": {},
   "outputs": [
    {
     "name": "stdout",
     "output_type": "stream",
     "text": [
      "19\n",
      "14\n"
     ]
    }
   ],
   "source": [
    "# we can access dictionary values with [] operator\n",
    "\n",
    "print(students[\"ani\"])\n",
    "print(students[\"jana\"])"
   ]
  },
  {
   "cell_type": "code",
   "execution_count": 3,
   "metadata": {},
   "outputs": [
    {
     "name": "stdout",
     "output_type": "stream",
     "text": [
      "{'ani': 20, 'jana': 14}\n"
     ]
    }
   ],
   "source": [
    "# we can update values using [] operator\n",
    "students[\"ani\"] = 20\n",
    "print(students)"
   ]
  },
  {
   "cell_type": "code",
   "execution_count": 4,
   "metadata": {},
   "outputs": [
    {
     "name": "stdout",
     "output_type": "stream",
     "text": [
      "{'ani': 20, 'jana': 14, 'sriram': 23}\n"
     ]
    }
   ],
   "source": [
    "# we can also a new name-value pair by indexed assignment\n",
    "\n",
    "students[\"sriram\"] = 23\n",
    "print(students)"
   ]
  },
  {
   "cell_type": "markdown",
   "metadata": {},
   "source": [
    "## Dictinary keys can be any immutable values\n",
    "\n",
    "Need not be just strings. Can use any immutable values like integers, floats, tuples, strings, bools etc. as keys in a dictionary. But **mutable values be used as values in a dictionary**."
   ]
  },
  {
   "cell_type": "code",
   "execution_count": 5,
   "metadata": {},
   "outputs": [
    {
     "name": "stdout",
     "output_type": "stream",
     "text": [
      "9\n",
      "8\n"
     ]
    }
   ],
   "source": [
    "\n",
    "# we use integer, tuple keys in this example\n",
    "s = { 2: 4, 3: 9, 4: 16, (2, 4): 8 }\n",
    "print(s[3])\n",
    "print(s[(2, 4)])"
   ]
  },
  {
   "cell_type": "code",
   "execution_count": 6,
   "metadata": {},
   "outputs": [
    {
     "ename": "TypeError",
     "evalue": "unhashable type: 'list'",
     "output_type": "error",
     "traceback": [
      "\u001b[1;31m---------------------------------------------------------------------------\u001b[0m",
      "\u001b[1;31mTypeError\u001b[0m                                 Traceback (most recent call last)",
      "\u001b[1;32m<ipython-input-6-980827aa9971>\u001b[0m in \u001b[0;36m<module>\u001b[1;34m\u001b[0m\n\u001b[0;32m      1\u001b[0m \u001b[1;31m# cannot use list a key as lists are mutable\u001b[0m\u001b[1;33m\u001b[0m\u001b[1;33m\u001b[0m\u001b[1;33m\u001b[0m\u001b[0m\n\u001b[1;32m----> 2\u001b[1;33m \u001b[0ms\u001b[0m \u001b[1;33m=\u001b[0m \u001b[1;33m{\u001b[0m \u001b[1;33m[\u001b[0m\u001b[1;36m23\u001b[0m\u001b[1;33m,\u001b[0m \u001b[1;36m44\u001b[0m\u001b[1;33m]\u001b[0m\u001b[1;33m:\u001b[0m \u001b[1;34m\"hello\"\u001b[0m\u001b[1;33m}\u001b[0m\u001b[1;33m\u001b[0m\u001b[1;33m\u001b[0m\u001b[0m\n\u001b[0m",
      "\u001b[1;31mTypeError\u001b[0m: unhashable type: 'list'"
     ]
    }
   ],
   "source": [
    "# cannot use list a key as lists are mutable\n",
    "s = { [23, 44]: \"hello\"}"
   ]
  },
  {
   "cell_type": "code",
   "execution_count": 7,
   "metadata": {},
   "outputs": [
    {
     "name": "stdout",
     "output_type": "stream",
     "text": [
      "{'hello': [2, 4], 'coordinate': {'x': 3, 'y': 45}}\n"
     ]
    }
   ],
   "source": [
    "# Note that the values can be mutable. We use dictionaries, lists as values in this example\n",
    "\n",
    "s = { \"hello\": [2, 4 ], \"coordinate\": { \"x\" : 3, \"y\": 45 } }\n",
    "print(s)"
   ]
  },
  {
   "cell_type": "code",
   "execution_count": 8,
   "metadata": {},
   "outputs": [
    {
     "name": "stdout",
     "output_type": "stream",
     "text": [
      "{}\n",
      "<class 'dict'>\n",
      "{}\n",
      "<class 'dict'>\n"
     ]
    }
   ],
   "source": [
    "# We can also create dictionaries using dict constructor\n",
    "\n",
    "# following both create empty dictionaries\n",
    "s = dict()\n",
    "print(s)\n",
    "print(type(s))\n",
    "\n",
    "# NOTE: empty paranthesis is empty dictionary and not empty set!\n",
    "s = {}\n",
    "print(s)\n",
    "print(type(s))"
   ]
  },
  {
   "cell_type": "code",
   "execution_count": 9,
   "metadata": {},
   "outputs": [
    {
     "name": "stdout",
     "output_type": "stream",
     "text": [
      "{'test1': {'dhawan': 0, 'sharma': 102}, 'test2': {'dhawan': 2, 'sharma': 49}}\n",
      "0\n",
      "49\n"
     ]
    }
   ],
   "source": [
    "# can nest dictionaries\n",
    "s = { \"test1\": { \"dhawan\": 0, \"sharma\": 102 }, \"test2\": { \"dhawan\": 2, \"sharma\": 49 }}\n",
    "print(s)\n",
    "print(s[\"test1\"][\"dhawan\"])\n",
    "print(s[\"test2\"][\"sharma\"])"
   ]
  },
  {
   "cell_type": "markdown",
   "metadata": {},
   "source": [
    "## for loop on dictionary iterates on keys\n",
    "\n",
    "for loop on lists iterates values. but **for loop on dictionary iterates keys!** There is no specific order by which keys are iterated! Dictionaries and sets are optimized fast retrieval and not sequential access. Keys are randomly iterated. Hence dictionaries are unordered collection of key-value pairs."
   ]
  },
  {
   "cell_type": "code",
   "execution_count": 10,
   "metadata": {},
   "outputs": [
    {
     "name": "stdout",
     "output_type": "stream",
     "text": [
      "ani\n",
      "jana\n"
     ]
    }
   ],
   "source": [
    "students = { \"ani\": 19, \"jana\": 14 }\n",
    "\n",
    "# iterates over keys of the dictionary\n",
    "for i in students:\n",
    "    print(i)"
   ]
  },
  {
   "cell_type": "code",
   "execution_count": 11,
   "metadata": {},
   "outputs": [
    {
     "name": "stdout",
     "output_type": "stream",
     "text": [
      "ani\n",
      "jana\n"
     ]
    }
   ],
   "source": [
    "# can explicitly iterate on keys by keys() method\n",
    "for i in students.keys():\n",
    "    print(i)"
   ]
  },
  {
   "cell_type": "markdown",
   "metadata": {},
   "source": [
    "## Iterating dictionary values"
   ]
  },
  {
   "cell_type": "code",
   "execution_count": 12,
   "metadata": {},
   "outputs": [
    {
     "name": "stdout",
     "output_type": "stream",
     "text": [
      "19\n",
      "14\n"
     ]
    }
   ],
   "source": [
    "# can explicitly iterate on values by values() method\n",
    "\n",
    "for i in students.values():\n",
    "    print(i)"
   ]
  },
  {
   "cell_type": "markdown",
   "metadata": {},
   "source": [
    "## Iterating key-value pairs from a dictionary"
   ]
  },
  {
   "cell_type": "code",
   "execution_count": 13,
   "metadata": {},
   "outputs": [
    {
     "name": "stdout",
     "output_type": "stream",
     "text": [
      "('ani', 19)\n",
      "('jana', 14)\n"
     ]
    }
   ],
   "source": [
    "# can iterate on key-value pairs using items() method\n",
    "# With items(), each time \"i\" receives a tuple containing name, value\n",
    "\n",
    "for i in students.items():\n",
    "    print(i)"
   ]
  },
  {
   "cell_type": "markdown",
   "metadata": {},
   "source": [
    "## Iterating with sorted keys"
   ]
  },
  {
   "cell_type": "code",
   "execution_count": 14,
   "metadata": {},
   "outputs": [
    {
     "name": "stdout",
     "output_type": "stream",
     "text": [
      "apple 80\n",
      "banana 6\n",
      "strawberry 120\n"
     ]
    }
   ],
   "source": [
    "# if you want keys in order, you've to call 'sorted' function\n",
    "# Note: sorted function returns a sorted copy of given iterable.\n",
    "# Unlike sort method on a list which sorts the list in-place\n",
    "\n",
    "s = { \"banana\": 6, \"apple\": 80, \"strawberry\": 120 }\n",
    "for i in sorted(s.keys()):\n",
    "    print(i, s[i])"
   ]
  },
  {
   "cell_type": "code",
   "execution_count": 15,
   "metadata": {},
   "outputs": [
    {
     "name": "stdout",
     "output_type": "stream",
     "text": [
      "<class 'dict_keys'>\n"
     ]
    }
   ],
   "source": [
    "# keys() does not return a list\n",
    "print(type(s.keys()))"
   ]
  },
  {
   "cell_type": "code",
   "execution_count": 16,
   "metadata": {},
   "outputs": [
    {
     "name": "stdout",
     "output_type": "stream",
     "text": [
      "<class 'list'>\n",
      "['banana', 'apple', 'strawberry']\n"
     ]
    }
   ],
   "source": [
    "# can be converted to a list using list function\n",
    "print(type(list(s.keys())))\n",
    "print(list(s.keys()))"
   ]
  },
  {
   "cell_type": "markdown",
   "metadata": {},
   "source": [
    "## Tesing the presence of a key with \"in\" and \"not in\" operators"
   ]
  },
  {
   "cell_type": "code",
   "execution_count": 17,
   "metadata": {},
   "outputs": [
    {
     "name": "stdout",
     "output_type": "stream",
     "text": [
      "True\n",
      "False\n",
      "False\n",
      "True\n"
     ]
    }
   ],
   "source": [
    "s = { \"banana\": 6, \"apple\": 80, \"strawberry\": 120 }\n",
    "print(\"banana\" in s)\n",
    "print(\"apple\" not in s)\n",
    "print(\"orange\" in s)\n",
    "print(\"orange\" not in s)"
   ]
  },
  {
   "cell_type": "markdown",
   "metadata": {},
   "source": [
    "## Deleting a key-value pair from a dictionary using \"del\" statement"
   ]
  },
  {
   "cell_type": "code",
   "execution_count": 18,
   "metadata": {},
   "outputs": [
    {
     "name": "stdout",
     "output_type": "stream",
     "text": [
      "{'banana': 6, 'apple': 80, 'strawberry': 120}\n",
      "{'apple': 80}\n"
     ]
    }
   ],
   "source": [
    "s = { \"banana\": 6, \"apple\": 80, \"strawberry\": 120 }\n",
    "\n",
    "print(s)\n",
    "\n",
    "del s[\"banana\"]\n",
    "del s[\"strawberry\"]\n",
    "\n",
    "print(s)"
   ]
  },
  {
   "cell_type": "markdown",
   "metadata": {},
   "source": [
    "## Difference between a list and a dictionary for non-existent key"
   ]
  },
  {
   "cell_type": "code",
   "execution_count": 19,
   "metadata": {},
   "outputs": [
    {
     "name": "stdout",
     "output_type": "stream",
     "text": [
      "{'apple': 33}\n"
     ]
    },
    {
     "ename": "IndexError",
     "evalue": "list assignment index out of range",
     "output_type": "error",
     "traceback": [
      "\u001b[1;31m---------------------------------------------------------------------------\u001b[0m",
      "\u001b[1;31mIndexError\u001b[0m                                Traceback (most recent call last)",
      "\u001b[1;32m<ipython-input-19-6d9f307f3420>\u001b[0m in \u001b[0;36m<module>\u001b[1;34m\u001b[0m\n\u001b[0;32m     10\u001b[0m \u001b[1;31m# cannot set at non-existent index. Have to extend or append to the list\u001b[0m\u001b[1;33m\u001b[0m\u001b[1;33m\u001b[0m\u001b[1;33m\u001b[0m\u001b[0m\n\u001b[0;32m     11\u001b[0m \u001b[1;31m# The following throws IndexError\u001b[0m\u001b[1;33m\u001b[0m\u001b[1;33m\u001b[0m\u001b[1;33m\u001b[0m\u001b[0m\n\u001b[1;32m---> 12\u001b[1;33m \u001b[0ml\u001b[0m\u001b[1;33m[\u001b[0m\u001b[1;36m0\u001b[0m\u001b[1;33m]\u001b[0m \u001b[1;33m=\u001b[0m \u001b[1;36m23\u001b[0m\u001b[1;33m\u001b[0m\u001b[1;33m\u001b[0m\u001b[0m\n\u001b[0m",
      "\u001b[1;31mIndexError\u001b[0m: list assignment index out of range"
     ]
    }
   ],
   "source": [
    "d = {}\n",
    "\n",
    "# okay to set value for a non-existent key!\n",
    "# adds a new key-value pair\n",
    "\n",
    "d[\"apple\"] = 33\n",
    "print(d)\n",
    "\n",
    "l = []\n",
    "# cannot set at non-existent index. Have to extend or append to the list\n",
    "# The following throws IndexError\n",
    "l[0] = 23\n"
   ]
  },
  {
   "cell_type": "markdown",
   "metadata": {},
   "source": [
    "## zip function"
   ]
  },
  {
   "cell_type": "code",
   "execution_count": 20,
   "metadata": {},
   "outputs": [
    {
     "name": "stdout",
     "output_type": "stream",
     "text": [
      "('John', 'Jenny')\n",
      "('Charles', 'Christy')\n",
      "('Mike', 'Monica')\n",
      "John Jenny\n",
      "Charles Christy\n",
      "Mike Monica\n"
     ]
    }
   ],
   "source": [
    "\n",
    "a = [ \"John\", \"Charles\", \"Mike\" ]\n",
    "b = [ \"Jenny\", \"Christy\", \"Monica\" ]\n",
    "\n",
    "# The zip() function returns a zip object, which is an iterator of tuples \n",
    "# where the first item in each passed iterator is paired together, and then\n",
    "# the second item in each passed iterator are paired together etc.\n",
    "# If the passed iterators have different lengths, the iterator with the least\n",
    "# items decides the length of the new iterator.\n",
    "\n",
    "z = zip(a, b) \n",
    "# iterate as pairs. Each time i is set to a tuple\n",
    "for i in z:\n",
    "    print(i)\n",
    "\n",
    "z = zip(a, b) \n",
    "# iterate as pairs after tuple assignment\n",
    "# The tuple values is separated into i and j\n",
    "for i, j in z:\n",
    "    print(i, j)"
   ]
  },
  {
   "cell_type": "markdown",
   "metadata": {},
   "source": [
    "## Using dictionary comprehension to create a dictionary"
   ]
  },
  {
   "cell_type": "code",
   "execution_count": 21,
   "metadata": {},
   "outputs": [
    {
     "name": "stdout",
     "output_type": "stream",
     "text": [
      "{'1': 1, '2': 2, '3': 3, '4': 4, '5': 5}\n",
      "{'apple': 5, 'mango': 5, 'banana': 6, 'cherry': 6}\n",
      "{'a': 1, 'b': 2, 'c': 3}\n"
     ]
    }
   ],
   "source": [
    "# Dictionary comprehension is short-cut way to create and populate a dictionary\n",
    "\n",
    "d = { str(i):i for i in [1,2,3,4,5]}\n",
    "print(d)\n",
    "\n",
    "fruits = ['apple', 'mango', 'banana','cherry']\n",
    "# dict comprehension to create dict with fruit name as keys\n",
    "d = { f:len(f) for f in fruits}\n",
    "print(d)\n",
    "\n",
    "# zip can be used to create dictionary via dictionary comprehension\n",
    "\n",
    "keys = ['a', 'b', 'c']\n",
    "values = [ 1, 2, 3]\n",
    "\n",
    "d = { i:j for (i,j) in zip(keys, values) }\n",
    "print(d)\n"
   ]
  },
  {
   "cell_type": "markdown",
   "metadata": {},
   "source": [
    "## Python File Handling\n",
    "\n",
    "Standard input, output is not workable for large volumes of data. Instead we read/write from disk files. Disk file reading/writing is slower compared to memory. Disk data is read/write in big buffers by the OS and when file is closed those temporary buffers are \"flushed\" into the disk. That's why it is important to \"close\" files opened for reading and/or writing. When you open a file, you get a \"file handle\" - this does setting up of buffers etc. File read/write happens via the handle. When file is closed, data is flushed from buffer to actual disk storage. File handle is \"disconnected\" from the file at that point.\n"
   ]
  },
  {
   "cell_type": "code",
   "execution_count": 22,
   "metadata": {},
   "outputs": [],
   "source": [
    "# open a file for writing\n",
    "\n",
    "# \"file.text\" is name of the file. \"w\" is mode (write mode in this case). \"w\" mode will overwrite file\n",
    "# you can use \"a\" to append more lines to existing content\n",
    "\n",
    "f = open(\"file.txt\", \"w\")\n",
    "\n",
    "\n",
    "# write a single line. Note the '\\n' character. Without\n",
    "# that \"write\" won't automatically put newline character!\n",
    "\n",
    "f.write(\"this is simple text\\n\")\n",
    "f.write(\"this is second line of text\\n\")\n",
    "\n",
    "# close the file\n",
    "f.close()\n"
   ]
  },
  {
   "cell_type": "code",
   "execution_count": 24,
   "metadata": {},
   "outputs": [
    {
     "name": "stdout",
     "output_type": "stream",
     "text": [
      "this is simple text\n",
      "\n",
      "this is second line of text\n",
      "\n"
     ]
    }
   ],
   "source": [
    "# open the same file for reading. \"r\" standard \n",
    "f = open(\"file.txt\", \"r\")\n",
    "\n",
    "# file can be iterated to get each line to process it\n",
    "# Here we read each line from file and print it\n",
    "for i in f:\n",
    "    print(i)\n",
    "\n",
    "f.close()"
   ]
  },
  {
   "cell_type": "code",
   "execution_count": 25,
   "metadata": {},
   "outputs": [
    {
     "name": "stdout",
     "output_type": "stream",
     "text": [
      "<class 'list'>\n"
     ]
    }
   ],
   "source": [
    "f = open(\"file.txt\", \"r\")\n",
    "\n",
    "# we can read all lines one shot into a list\n",
    "lines = f.readlines()\n",
    "print(type(lines))\n",
    "\n",
    "f.close()"
   ]
  },
  {
   "cell_type": "code",
   "execution_count": 26,
   "metadata": {},
   "outputs": [
    {
     "name": "stdout",
     "output_type": "stream",
     "text": [
      "this is simple text\n",
      "this is second line of text\n",
      "\n"
     ]
    }
   ],
   "source": [
    "f = open(\"file.txt\", \"r\")\n",
    "\n",
    "# we can read entire file content in one-shot as a string\n",
    "s = f.read()\n",
    "\n",
    "print(s)\n",
    "f.close()"
   ]
  },
  {
   "cell_type": "code",
   "execution_count": 43,
   "metadata": {},
   "outputs": [],
   "source": [
    "# open the same file for append\n",
    "f = open(\"file.txt\", \"a\")\n",
    "\n",
    "# write a list of lines into the file\n",
    "f.writelines([\"This is third line\\n\", \"This is fourth line\\n\"])\n",
    "\n",
    "# close the file\n",
    "f.close()\n",
    "\n"
   ]
  },
  {
   "cell_type": "code",
   "execution_count": 44,
   "metadata": {},
   "outputs": [
    {
     "name": "stdout",
     "output_type": "stream",
     "text": [
      "this is simple text\n",
      "this is second line of text\n",
      "This is third line\n",
      "This is fourth line\n",
      "\n"
     ]
    }
   ],
   "source": [
    "f = open(\"file.txt\", \"r\")\n",
    "\n",
    "# we can read entire file content in one-shot as a string\n",
    "s = f.read()\n",
    "\n",
    "print(s)\n",
    "f.close()"
   ]
  },
  {
   "cell_type": "markdown",
   "metadata": {},
   "source": [
    "## handling file using with statement\n",
    "\n",
    "with statement can automatically closes the files opened. There is no need to remember to close "
   ]
  },
  {
   "cell_type": "code",
   "execution_count": 45,
   "metadata": {},
   "outputs": [
    {
     "name": "stdout",
     "output_type": "stream",
     "text": [
      "this is simple text\n",
      "this is second line of text\n",
      "This is third line\n",
      "This is fourth line\n",
      "\n"
     ]
    }
   ],
   "source": [
    "with open(\"file.txt\", \"r\") as f:\n",
    "    # we can read entire file content in one-shot as a string\n",
    "    s = f.read()\n",
    "    print(s)\n",
    "    # file is closed automatically after with statement ends"
   ]
  }
 ],
 "metadata": {
  "kernelspec": {
   "display_name": "Python 3",
   "language": "python",
   "name": "python3"
  },
  "language_info": {
   "codemirror_mode": {
    "name": "ipython",
    "version": 3
   },
   "file_extension": ".py",
   "mimetype": "text/x-python",
   "name": "python",
   "nbconvert_exporter": "python",
   "pygments_lexer": "ipython3",
   "version": "3.7.6"
  }
 },
 "nbformat": 4,
 "nbformat_minor": 2
}
