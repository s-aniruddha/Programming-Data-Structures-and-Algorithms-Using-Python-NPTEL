{
 "cells": [
  {
   "cell_type": "markdown",
   "metadata": {},
   "source": [
    "## Python Strings are like immutable list of characters\n",
    "\n",
    "**Python strings are like (immutable) list of characters.** Almost all list things will work for strings except the ones that modify/delete/append. You can modify individual characters of a given string or remove individual charaters. Also you cannot add more characters at either end. **All string operators/methods that return a modified string return a new string**"
   ]
  },
  {
   "cell_type": "code",
   "execution_count": 1,
   "metadata": {},
   "outputs": [
    {
     "data": {
      "text/plain": [
       "5"
      ]
     },
     "execution_count": 1,
     "metadata": {},
     "output_type": "execute_result"
    }
   ],
   "source": [
    "s = \"hello\"\n",
    "\n",
    "# length of the string\n",
    "len(s)"
   ]
  },
  {
   "cell_type": "code",
   "execution_count": 2,
   "metadata": {},
   "outputs": [
    {
     "name": "stdout",
     "output_type": "stream",
     "text": [
      "j a v a\n"
     ]
    }
   ],
   "source": [
    "# indexed individual character access\n",
    "\n",
    "s = \"java\"\n",
    "\n",
    "# indexed access to individual characters\n",
    "# negative index means access from the end. Basically add len(s) to the negative index\n",
    "print(s[0], s[1], s[2], s[-1])"
   ]
  },
  {
   "cell_type": "code",
   "execution_count": 3,
   "metadata": {},
   "outputs": [
    {
     "name": "stdout",
     "output_type": "stream",
     "text": [
      "java\n",
      "jvsrp\n",
      "tpircsavaj\n"
     ]
    }
   ],
   "source": [
    "# slicing a string\n",
    "\n",
    "s = \"javascript\"\n",
    "\n",
    "# [start, end)\n",
    "print(s[0:4])\n",
    "\n",
    "# [start, end) with step (default start is 0 and default stop is len(s))\n",
    "\n",
    "print(s[0::2])\n",
    "\n",
    "# when step is negative, start is len(s) and stop is 0\n",
    "# following reverses the string\n",
    "print(s[::-1])"
   ]
  },
  {
   "cell_type": "code",
   "execution_count": 4,
   "metadata": {},
   "outputs": [
    {
     "name": "stdout",
     "output_type": "stream",
     "text": [
      "h\n",
      "e\n",
      "l\n",
      "l\n",
      "o\n"
     ]
    }
   ],
   "source": [
    "# iterator each character of the string\n",
    "\n",
    "for i in \"hello\":\n",
    "    print(i)"
   ]
  },
  {
   "cell_type": "markdown",
   "metadata": {},
   "source": [
    "##  Character or substring check "
   ]
  },
  {
   "cell_type": "code",
   "execution_count": 5,
   "metadata": {},
   "outputs": [
    {
     "name": "stdout",
     "output_type": "stream",
     "text": [
      "True\n",
      "True\n",
      "True\n",
      "False\n",
      "False\n"
     ]
    }
   ],
   "source": [
    "# in, not in operators check if a particular character or substring exists in a string\n",
    "\n",
    "s = \"The quick brown fox jumps over the lazy dog\"\n",
    "print(\"q\" in s)\n",
    "print(\"over\" in s)\n",
    "print(\"Fox\" not in s)\n",
    "print(\"jump\" not in s)\n",
    "print(\"p\" not in s)"
   ]
  },
  {
   "cell_type": "markdown",
   "metadata": {},
   "source": [
    "## Splitting a string into a list of strings"
   ]
  },
  {
   "cell_type": "code",
   "execution_count": 6,
   "metadata": {},
   "outputs": [
    {
     "name": "stdout",
     "output_type": "stream",
     "text": [
      "<class 'list'>\n",
      "['The', 'quick', 'brown', 'fox', 'jumps', 'over', 'the', 'lazy', 'dog']\n",
      "['2', '66', '77']\n"
     ]
    }
   ],
   "source": [
    "s = \"The quick brown fox jumps over the lazy dog\"\n",
    "\n",
    "words = s.split()\n",
    "print(type(words))\n",
    "print(words)\n",
    "\n",
    "# by default split splits on blank character. But we can pass\n",
    "# a different separator to split\n",
    "\n",
    "s = \"2,66,77\"\n",
    "print(s.split(\",\"))"
   ]
  },
  {
   "cell_type": "markdown",
   "metadata": {},
   "source": [
    "## Joining a list of strings to form a single string"
   ]
  },
  {
   "cell_type": "code",
   "execution_count": 7,
   "metadata": {},
   "outputs": [
    {
     "name": "stdout",
     "output_type": "stream",
     "text": [
      "apple banana grapes\n",
      "<class 'str'>\n",
      "apple,banana,grapes\n",
      "ani:jana\n",
      "2-5-2001\n"
     ]
    }
   ],
   "source": [
    "# we can join a list of strings with a specific separator\n",
    "\n",
    "print(\" \".join(['apple', 'banana', 'grapes']))\n",
    "\n",
    "# form a comma separated string\n",
    "s = \",\".join(['apple', 'banana', 'grapes'])\n",
    "print(type(s))\n",
    "print(s)\n",
    "\n",
    "# form a colon separated string\n",
    "s = \":\".join([\"ani\", \"jana\"])\n",
    "print(s)\n",
    "\n",
    "day = \"2\"\n",
    "month = \"5\"\n",
    "year = \"2001\"\n",
    "# use hyphen as joining character\n",
    "s = \"-\".join([day, month, year])\n",
    "print(s)"
   ]
  },
  {
   "cell_type": "markdown",
   "metadata": {},
   "source": [
    "## Searching for substring in a string"
   ]
  },
  {
   "cell_type": "code",
   "execution_count": 8,
   "metadata": {},
   "outputs": [
    {
     "name": "stdout",
     "output_type": "stream",
     "text": [
      "4\n",
      "26\n",
      "-1\n",
      "0\n",
      "20\n"
     ]
    }
   ],
   "source": [
    "# search for a substring and get its index\n",
    "s = \"The quick brown fox jumps over the lazy dog\"\n",
    "\n",
    "print(s.find(\"quick\"))\n",
    "print(s.find(\"ove\"))\n",
    "\n",
    "# -1 if the substring does not exist in the main string\n",
    "print(s.find(\"man\"))\n",
    "\n",
    "# search string from the end \n",
    "\n",
    "s = \"rose is a rose is a rose\"\n",
    "print(s.find(\"rose\"))\n",
    "# reverse find with rfind\n",
    "print(s.rfind(\"rose\"))"
   ]
  },
  {
   "cell_type": "markdown",
   "metadata": {},
   "source": [
    "## Find and replace a substring to create a new string"
   ]
  },
  {
   "cell_type": "code",
   "execution_count": 9,
   "metadata": {},
   "outputs": [
    {
     "name": "stdout",
     "output_type": "stream",
     "text": [
      "The quick brown lion jumps over the lazy dog\n",
      "The quick brown fox jumps over the lazy dog\n",
      "weed is a weed is a weed\n",
      "rose is a rose is a rose\n"
     ]
    }
   ],
   "source": [
    "# use replace to a substring with another string\n",
    "\n",
    "s = \"The quick brown lion jumps over the lazy dog\"\n",
    "print(s)\n",
    "\n",
    "# oops! That's fox and not lion. Replace it!\n",
    "print(s.replace(\"lion\", \"fox\"))\n",
    "\n",
    "# multiple replaces\n",
    "s = \"weed is a weed is a weed\"\n",
    "print(s)\n",
    "\n",
    "# oops! that is not weed but rose!\n",
    "print(s.replace(\"weed\", \"rose\"))\n"
   ]
  },
  {
   "cell_type": "markdown",
   "metadata": {},
   "source": [
    "## String character case related methods"
   ]
  },
  {
   "cell_type": "code",
   "execution_count": 10,
   "metadata": {},
   "outputs": [
    {
     "name": "stdout",
     "output_type": "stream",
     "text": [
      "JAVA\n",
      "java\n",
      "False\n",
      "False\n"
     ]
    }
   ],
   "source": [
    "# upper, lower, isupper, islower\n",
    "s = \"Java\"\n",
    "\n",
    "# upper returns all uppercase version\n",
    "print(s.upper())\n",
    "\n",
    "# lower returns all lowercase version\n",
    "print(s.lower())\n",
    "\n",
    "# check if it is all lowercase\n",
    "print(s.islower())\n",
    "\n",
    "# check if it is all uppercase\n",
    "print(s.isupper())"
   ]
  },
  {
   "cell_type": "code",
   "execution_count": 11,
   "metadata": {},
   "outputs": [
    {
     "name": "stdout",
     "output_type": "stream",
     "text": [
      "Java\n"
     ]
    }
   ],
   "source": [
    "s = \"java\"\n",
    "# return a new string with first char in uppercase\n",
    "print(s.capitalize())"
   ]
  },
  {
   "cell_type": "markdown",
   "metadata": {},
   "source": [
    "## Checking for digit, alphabetic, alphanumeric characters\n",
    "\n"
   ]
  },
  {
   "cell_type": "code",
   "execution_count": 12,
   "metadata": {},
   "outputs": [
    {
     "name": "stdout",
     "output_type": "stream",
     "text": [
      "False\n",
      "True\n",
      "True\n",
      "False\n",
      "True\n",
      "True\n",
      "False\n"
     ]
    }
   ],
   "source": [
    "\n",
    "s = \"foobar\"\n",
    "d = \"4353454\"\n",
    "\n",
    "# are all characters digits?\n",
    "print(s.isdigit())\n",
    "print(d.isdigit())\n",
    "\n",
    "# are all characters alphabetic?\n",
    "print(s.isalpha())\n",
    "print(d.isalpha())\n",
    "\n",
    "# are all characters alphanumeric?\n",
    "print(s.isalnum())\n",
    "print(d.isalnum())\n",
    "\n",
    "# email id has '@' and so not alphanumeric!\n",
    "print(\"ani@exmaple.com\".isalnum())"
   ]
  },
  {
   "cell_type": "markdown",
   "metadata": {},
   "source": [
    "## Python Strings are immutable"
   ]
  },
  {
   "cell_type": "code",
   "execution_count": 13,
   "metadata": {},
   "outputs": [
    {
     "ename": "TypeError",
     "evalue": "'str' object does not support item assignment",
     "output_type": "error",
     "traceback": [
      "\u001b[1;31m---------------------------------------------------------------------------\u001b[0m",
      "\u001b[1;31mTypeError\u001b[0m                                 Traceback (most recent call last)",
      "\u001b[1;32m<ipython-input-13-dd0e41c8fc9e>\u001b[0m in \u001b[0;36m<module>\u001b[1;34m\u001b[0m\n\u001b[0;32m      2\u001b[0m \u001b[1;33m\u001b[0m\u001b[0m\n\u001b[0;32m      3\u001b[0m \u001b[1;31m# attempt to change a particular character\u001b[0m\u001b[1;33m\u001b[0m\u001b[1;33m\u001b[0m\u001b[1;33m\u001b[0m\u001b[0m\n\u001b[1;32m----> 4\u001b[1;33m \u001b[0ms\u001b[0m\u001b[1;33m[\u001b[0m\u001b[1;36m0\u001b[0m\u001b[1;33m]\u001b[0m \u001b[1;33m=\u001b[0m \u001b[1;34m'a'\u001b[0m\u001b[1;33m\u001b[0m\u001b[1;33m\u001b[0m\u001b[0m\n\u001b[0m",
      "\u001b[1;31mTypeError\u001b[0m: 'str' object does not support item assignment"
     ]
    }
   ],
   "source": [
    "s = \"hello\"\n",
    "\n",
    "# attempt to change a particular character\n",
    "s[0] = 'a'"
   ]
  },
  {
   "cell_type": "code",
   "execution_count": 14,
   "metadata": {},
   "outputs": [
    {
     "ename": "TypeError",
     "evalue": "'str' object does not support item deletion",
     "output_type": "error",
     "traceback": [
      "\u001b[1;31m---------------------------------------------------------------------------\u001b[0m",
      "\u001b[1;31mTypeError\u001b[0m                                 Traceback (most recent call last)",
      "\u001b[1;32m<ipython-input-14-40e2600fd153>\u001b[0m in \u001b[0;36m<module>\u001b[1;34m\u001b[0m\n\u001b[0;32m      2\u001b[0m \u001b[1;33m\u001b[0m\u001b[0m\n\u001b[0;32m      3\u001b[0m \u001b[1;31m# attempt to delete a slice\u001b[0m\u001b[1;33m\u001b[0m\u001b[1;33m\u001b[0m\u001b[1;33m\u001b[0m\u001b[0m\n\u001b[1;32m----> 4\u001b[1;33m \u001b[1;32mdel\u001b[0m \u001b[0ms\u001b[0m\u001b[1;33m[\u001b[0m\u001b[1;36m2\u001b[0m\u001b[1;33m:\u001b[0m\u001b[1;33m]\u001b[0m\u001b[1;33m\u001b[0m\u001b[1;33m\u001b[0m\u001b[0m\n\u001b[0m",
      "\u001b[1;31mTypeError\u001b[0m: 'str' object does not support item deletion"
     ]
    }
   ],
   "source": [
    "s = \"hello\"\n",
    "\n",
    "# attempt to delete a slice\n",
    "del s[2:]"
   ]
  },
  {
   "cell_type": "markdown",
   "metadata": {},
   "source": [
    "## String concatenation is by + operator. String repetition by * operator."
   ]
  },
  {
   "cell_type": "code",
   "execution_count": 15,
   "metadata": {},
   "outputs": [
    {
     "name": "stdout",
     "output_type": "stream",
     "text": [
      "helloworld\n",
      "hellohellohellohellohello\n",
      "worldworldworldworldworldworldworldworldworldworld\n"
     ]
    }
   ],
   "source": [
    "h = \"hello\"\n",
    "w = \"world\"\n",
    "\n",
    "# add two strings to create a new concatenated string\n",
    "print(h + w)\n",
    "\n",
    "# multiply an integer with string \n",
    "print(5 * h)\n",
    "\n",
    "# multiply a sting with integer \n",
    "print(w * 10)"
   ]
  },
  {
   "cell_type": "markdown",
   "metadata": {},
   "source": [
    "# strip whitespace characters"
   ]
  },
  {
   "cell_type": "code",
   "execution_count": 16,
   "metadata": {},
   "outputs": [
    {
     "name": "stdout",
     "output_type": "stream",
     "text": [
      "    hello    \n",
      "13\n",
      "after lstrip: hello    .\n",
      "9\n",
      "after rstrip:     hello.\n",
      "9\n",
      "after strip: hello.\n",
      "5\n"
     ]
    }
   ],
   "source": [
    "s = \"    hello    \"\n",
    "\n",
    "print(s)\n",
    "print(len(s))\n",
    "\n",
    "# create a new string with left spaces removed\n",
    "# add \".\" at the end to visualize that right spaces are intact\n",
    "print(\"after lstrip:\", s.lstrip() + \".\")\n",
    "print(len(s.lstrip()))\n",
    "\n",
    "# create a new string with right spaces removed\n",
    "print(\"after rstrip:\", s.rstrip() + \".\")\n",
    "print(len(s.rstrip()))\n",
    "\n",
    "# strip spaces from both left and right ends\n",
    "print(\"after strip:\", s.strip() + \".\")\n",
    "print(len(s.strip()))"
   ]
  },
  {
   "cell_type": "markdown",
   "metadata": {},
   "source": [
    "## Formatted printing using string format method\n",
    "\n",
    "print method is used to print output. by default, print prints single space between arguments and puts a newline at the end. We can customize this by passing \"sep\" and \"end\" named arguments to print call\n"
   ]
  },
  {
   "cell_type": "code",
   "execution_count": 18,
   "metadata": {},
   "outputs": [
    {
     "name": "stdout",
     "output_type": "stream",
     "text": [
      "34 66\n",
      "34:66\n",
      "34,55\n",
      "hello55\n"
     ]
    }
   ],
   "source": [
    "print(34, 66)\n",
    "\n",
    "# colon separated output\n",
    "print(34, 66, sep=\":\")\n",
    "\n",
    "# comma separated output\n",
    "print(34, 55, sep=\",\")\n",
    "\n",
    "# no newline at the end. end argument to customize what is printed at the end\n",
    "print(\"hello\", end=\"\")\n",
    "\n",
    "# now print 55 and a newline\n",
    "print(55)"
   ]
  },
  {
   "cell_type": "markdown",
   "metadata": {},
   "source": [
    "### But if you want more control on what is printed at the terminal/console, you can use \"format\" method"
   ]
  },
  {
   "cell_type": "code",
   "execution_count": 19,
   "metadata": {},
   "outputs": [
    {
     "name": "stdout",
     "output_type": "stream",
     "text": [
      "My name is ani. I'm of age 19\n",
      "My name is jana. I'm of age 15\n",
      "My name is ani. I'm of age 19\n"
     ]
    }
   ],
   "source": [
    "# a format string has \"holes\" (aka placeholders) like {number}\n",
    "# Each hole needs to be filled using \"format\" method call\n",
    "s = \"My name is {0}. I'm of age {1}\"\n",
    "\n",
    "# format fills holes {0}, {1} with specified arguments and\n",
    "# returns a new formatted string\n",
    "t = s.format(\"ani\", 19)\n",
    "\n",
    "# print the formatted string\n",
    "print(t)\n",
    "\n",
    "# fill holes {0}, {1} with the specified arguments\n",
    "t = s.format(\"jana\", 15)\n",
    "# print the formatted string\n",
    "print(t)\n",
    "\n",
    "# format holes need not be specified by numbers - we can use names instead\n",
    "s = \"My name is {name}. I'm of age {age}\"\n",
    "\n",
    "# fill the holes\n",
    "t = s.format(name=\"ani\", age=19)\n",
    "print(t)"
   ]
  },
  {
   "cell_type": "markdown",
   "metadata": {},
   "source": [
    "## Python sets\n",
    "\n",
    "Python sets model the concept of mathematical sets. Sets are **unordered collections of unique elements**.\n",
    "\n",
    "    * Sets have unique elements (no duplicates).\n",
    "    * There is no order (unordered) among set elements (set elements are iterated in random order)\n",
    "    * There is no indexed access to set elements (no [] operator access)\n",
    "    \n",
    "Python sets are created by familiar math like set syntax - comma separated elements with braces around { }\n",
    "\n",
    "```\n",
    "    s = { element1, element2, element3 }\n",
    "```"
   ]
  },
  {
   "cell_type": "code",
   "execution_count": 20,
   "metadata": {},
   "outputs": [
    {
     "name": "stdout",
     "output_type": "stream",
     "text": [
      "{3, 45, 7}\n",
      "3\n"
     ]
    }
   ],
   "source": [
    "# no duplicates! Duplicates ignored\n",
    "s = { 3, 45, 7, 45}\n",
    "\n",
    "print(s)\n",
    "print(len(s))"
   ]
  },
  {
   "cell_type": "code",
   "execution_count": 23,
   "metadata": {},
   "outputs": [
    {
     "name": "stdout",
     "output_type": "stream",
     "text": [
      "<class 'dict'>\n"
     ]
    }
   ],
   "source": [
    "# This is *not* an empty set! This is empty dictionary\n",
    "\n",
    "s = {}\n",
    "print(type(s))"
   ]
  },
  {
   "cell_type": "code",
   "execution_count": 24,
   "metadata": {},
   "outputs": [
    {
     "name": "stdout",
     "output_type": "stream",
     "text": [
      "<class 'set'>\n"
     ]
    }
   ],
   "source": [
    "# if you want empty set, use set constructor with no arguments\n",
    "\n",
    "s = set()\n",
    "print(type(s))"
   ]
  },
  {
   "cell_type": "code",
   "execution_count": 25,
   "metadata": {},
   "outputs": [
    {
     "name": "stdout",
     "output_type": "stream",
     "text": [
      "red\n",
      "blue\n",
      "green\n"
     ]
    }
   ],
   "source": [
    "# set iterates elements in random order\n",
    "s = { \"red\", \"green\", \"blue\" }\n",
    "for i in s:\n",
    "    print(i)"
   ]
  },
  {
   "cell_type": "code",
   "execution_count": 26,
   "metadata": {},
   "outputs": [
    {
     "ename": "TypeError",
     "evalue": "'set' object is not subscriptable",
     "output_type": "error",
     "traceback": [
      "\u001b[1;31m---------------------------------------------------------------------------\u001b[0m",
      "\u001b[1;31mTypeError\u001b[0m                                 Traceback (most recent call last)",
      "\u001b[1;32m<ipython-input-26-c9c96910e542>\u001b[0m in \u001b[0;36m<module>\u001b[1;34m\u001b[0m\n\u001b[1;32m----> 1\u001b[1;33m \u001b[0ms\u001b[0m\u001b[1;33m[\u001b[0m\u001b[1;36m0\u001b[0m\u001b[1;33m]\u001b[0m\u001b[1;33m\u001b[0m\u001b[1;33m\u001b[0m\u001b[0m\n\u001b[0m",
      "\u001b[1;31mTypeError\u001b[0m: 'set' object is not subscriptable"
     ]
    }
   ],
   "source": [
    "s[0]"
   ]
  },
  {
   "cell_type": "markdown",
   "metadata": {},
   "source": [
    "## Operators on sets\n",
    "\n",
    "The following operators are supported on sets\n",
    "\n",
    "    * |\n",
    "        This is \"or\". set union operation\n",
    "    * &\n",
    "        This is \"and\". set intersection operation\n",
    "    * -\n",
    "        This is set difference operation (A and not B)\n",
    "    * ^\n",
    "        This is symmetric difference operation (A and not B) or (B and not A)"
   ]
  },
  {
   "cell_type": "code",
   "execution_count": 27,
   "metadata": {},
   "outputs": [
    {
     "data": {
      "text/plain": [
       "{1, 2, 3, 5, 6}"
      ]
     },
     "execution_count": 27,
     "metadata": {},
     "output_type": "execute_result"
    }
   ],
   "source": [
    "a = { 1, 3, 5 }\n",
    "b = { 2, 5, 6 }\n",
    "\n",
    "# a union b\n",
    "a | b"
   ]
  },
  {
   "cell_type": "code",
   "execution_count": 28,
   "metadata": {},
   "outputs": [
    {
     "data": {
      "text/plain": [
       "{5}"
      ]
     },
     "execution_count": 28,
     "metadata": {},
     "output_type": "execute_result"
    }
   ],
   "source": [
    "# a intersection b\n",
    "\n",
    "a & b"
   ]
  },
  {
   "cell_type": "code",
   "execution_count": 29,
   "metadata": {},
   "outputs": [
    {
     "data": {
      "text/plain": [
       "{1, 3}"
      ]
     },
     "execution_count": 29,
     "metadata": {},
     "output_type": "execute_result"
    }
   ],
   "source": [
    "# a and not b\n",
    "\n",
    "a - b"
   ]
  },
  {
   "cell_type": "code",
   "execution_count": 30,
   "metadata": {},
   "outputs": [
    {
     "data": {
      "text/plain": [
       "{1, 2, 3, 6}"
      ]
     },
     "execution_count": 30,
     "metadata": {},
     "output_type": "execute_result"
    }
   ],
   "source": [
    "# (a and not b) or (b and not a)\n",
    "# this is same as (a | b) - (a & b)\n",
    "\n",
    "a ^ b"
   ]
  },
  {
   "cell_type": "code",
   "execution_count": 31,
   "metadata": {},
   "outputs": [
    {
     "data": {
      "text/plain": [
       "{1, 2, 3, 6}"
      ]
     },
     "execution_count": 31,
     "metadata": {},
     "output_type": "execute_result"
    }
   ],
   "source": [
    "(a | b) - (a & b)"
   ]
  },
  {
   "cell_type": "markdown",
   "metadata": {},
   "source": [
    "## Set assignment operators\n",
    "\n",
    "\n",
    "    * |=\n",
    "        a |= b is same as a = a | b\n",
    "    * &= \n",
    "        a &= b is same as a = a & b\n",
    "    * -=\n",
    "        a -= b is same as a = a - b      \n",
    "    * ^=\n",
    "        a ^= b is same as a = a ^ b\n",
    "           "
   ]
  },
  {
   "cell_type": "code",
   "execution_count": 32,
   "metadata": {},
   "outputs": [
    {
     "name": "stdout",
     "output_type": "stream",
     "text": [
      "{1, 3, 5} {2, 5, 6}\n",
      "{1, 2, 3, 5, 6}\n"
     ]
    }
   ],
   "source": [
    "print(a, b)\n",
    "a |= b\n",
    "print(a)"
   ]
  },
  {
   "cell_type": "code",
   "execution_count": 33,
   "metadata": {},
   "outputs": [
    {
     "name": "stdout",
     "output_type": "stream",
     "text": [
      "{2, 5, 6}\n"
     ]
    }
   ],
   "source": [
    "a &= b\n",
    "print(a)"
   ]
  },
  {
   "cell_type": "markdown",
   "metadata": {},
   "source": [
    "## Set membership check with in and not in operators\n",
    "\n",
    "    value in s\n",
    "\n",
    "evaluates to true if the value is present in the set s\n",
    "\n",
    "    value not in s\n",
    "    \n",
    "evaluates to true if the value is not present in the set s\n"
   ]
  },
  {
   "cell_type": "code",
   "execution_count": 34,
   "metadata": {},
   "outputs": [
    {
     "data": {
      "text/plain": [
       "True"
      ]
     },
     "execution_count": 34,
     "metadata": {},
     "output_type": "execute_result"
    }
   ],
   "source": [
    "primary = { \"green\", \"red\", \"blue\" }\n",
    "\"red\" in primary"
   ]
  },
  {
   "cell_type": "code",
   "execution_count": 35,
   "metadata": {},
   "outputs": [
    {
     "data": {
      "text/plain": [
       "False"
      ]
     },
     "execution_count": 35,
     "metadata": {},
     "output_type": "execute_result"
    }
   ],
   "source": [
    "\"orange\" in primary"
   ]
  },
  {
   "cell_type": "code",
   "execution_count": 36,
   "metadata": {},
   "outputs": [
    {
     "data": {
      "text/plain": [
       "True"
      ]
     },
     "execution_count": 36,
     "metadata": {},
     "output_type": "execute_result"
    }
   ],
   "source": [
    "\"orange\" not in primary"
   ]
  },
  {
   "cell_type": "code",
   "execution_count": 37,
   "metadata": {},
   "outputs": [
    {
     "data": {
      "text/plain": [
       "False"
      ]
     },
     "execution_count": 37,
     "metadata": {},
     "output_type": "execute_result"
    }
   ],
   "source": [
    "\"red\" not in primary"
   ]
  },
  {
   "cell_type": "markdown",
   "metadata": {},
   "source": [
    "## Set clear to remove all elements"
   ]
  },
  {
   "cell_type": "code",
   "execution_count": 38,
   "metadata": {},
   "outputs": [
    {
     "data": {
      "text/plain": [
       "set()"
      ]
     },
     "execution_count": 38,
     "metadata": {},
     "output_type": "execute_result"
    }
   ],
   "source": [
    "## clear all elements in the set\n",
    "primary.clear()\n",
    "primary"
   ]
  },
  {
   "cell_type": "markdown",
   "metadata": {},
   "source": [
    "## Create set with set constructor and then add elements\n"
   ]
  },
  {
   "cell_type": "code",
   "execution_count": 39,
   "metadata": {},
   "outputs": [
    {
     "name": "stdout",
     "output_type": "stream",
     "text": [
      "set()\n",
      "{34, 22}\n"
     ]
    }
   ],
   "source": [
    "s = set()\n",
    "print(s)\n",
    "s.add(34)\n",
    "s.add(22)\n",
    "print(s)"
   ]
  },
  {
   "cell_type": "code",
   "execution_count": 40,
   "metadata": {},
   "outputs": [
    {
     "name": "stdout",
     "output_type": "stream",
     "text": [
      "{56, 34, 67}\n",
      "set()\n"
     ]
    }
   ],
   "source": [
    "# create a set from a list\n",
    "\n",
    "# duplicates, if any, will be removed\n",
    "s = set([34, 56, 67, 67])\n",
    "print(s)\n",
    "\n",
    "# fancy way of creating empty set from an empty list :)\n",
    "s = set([])\n",
    "print(s)"
   ]
  },
  {
   "cell_type": "code",
   "execution_count": 41,
   "metadata": {},
   "outputs": [
    {
     "name": "stdout",
     "output_type": "stream",
     "text": [
      "{'e', 'l', 'o', 'h'}\n",
      "{'d', 'o', 'r', 'w', 'l'}\n"
     ]
    }
   ],
   "source": [
    "# Python string is a like a (immutable) list of characters. \n",
    "# so you can create a set from a string - in which case you're creating\n",
    "# a set of characters (with duplicates removed, if any)\n",
    "\n",
    "s = set(\"hello\")\n",
    "print(s)\n",
    "\n",
    "s = set(\"world\")\n",
    "print(s)"
   ]
  },
  {
   "cell_type": "markdown",
   "metadata": {},
   "source": [
    "## Python sets can be created by set comprehension as well\n",
    "\n",
    "Set comprehension is a way to create set using for loop inside set initial expression:\n",
    "\n",
    "```python\n",
    "    # set of squares of [0, 100)\n",
    "    s = { i*i for i in range(0, 100) }\n",
    "```"
   ]
  },
  {
   "cell_type": "code",
   "execution_count": 42,
   "metadata": {},
   "outputs": [
    {
     "name": "stdout",
     "output_type": "stream",
     "text": [
      "{0, 1, 1024, 4096, 4, 9216, 9, 16, 529, 3600, 4624, 25, 36, 2601, 49, 7225, 3136, 64, 576, 1089, 1600, 2116, 5184, 6724, 7744, 9801, 81, 8281, 6241, 100, 625, 121, 4225, 1156, 8836, 3721, 144, 1681, 2704, 5776, 4761, 2209, 676, 169, 3249, 9409, 196, 1225, 5329, 729, 225, 1764, 7396, 6889, 7921, 2809, 256, 2304, 6400, 3844, 4356, 784, 1296, 8464, 289, 3364, 4900, 5929, 1849, 9025, 324, 841, 1369, 2401, 2916, 5476, 361, 3969, 900, 9604, 4489, 400, 1936, 7056, 7569, 3481, 6561, 1444, 8100, 5041, 441, 961, 2500, 6084, 8649, 3025, 484, 2025, 1521, 5625}\n"
     ]
    }
   ],
   "source": [
    "s = { i*i  for i in range(0, 100) }\n",
    "print(s)"
   ]
  },
  {
   "cell_type": "code",
   "execution_count": 43,
   "metadata": {},
   "outputs": [
    {
     "name": "stdout",
     "output_type": "stream",
     "text": [
      "{1, 3969, 4225, 9, 3721, 4489, 5625, 529, 1681, 7569, 25, 3481, 4761, 289, 2209, 6561, 169, 2601, 5929, 49, 3249, 5041, 2809, 441, 1849, 7225, 961, 1089, 9025, 9409, 841, 1225, 8649, 9801, 81, 3025, 5329, 1369, 729, 8281, 225, 2401, 6241, 361, 2025, 6889, 625, 1521, 7921, 121}\n"
     ]
    }
   ],
   "source": [
    "# In set comprehension, if condition may be added at the end to filter out the generated values!\n",
    "\n",
    "# squares of [0, 100) but only if the square is odd\n",
    "s = { i*i for i in range(0, 100) if i*i % 2 != 0}\n",
    "print(s)"
   ]
  },
  {
   "cell_type": "markdown",
   "metadata": {},
   "source": [
    "## Python tuples\n",
    "\n",
    "Python **tuples are immutable sequence of values**. Once created, we cannot add/delete or change element values. But element values are ordered and duplicates are allowed. tuple elements are accessed just like list elements ([] operator with index and [] operator for slicing)\n",
    "\n",
    "Tuples are comma separated values with **optionally parenthesis** around. Parens are needed for nested tuples/tuples in lists and so on."
   ]
  },
  {
   "cell_type": "code",
   "execution_count": 44,
   "metadata": {},
   "outputs": [
    {
     "name": "stdout",
     "output_type": "stream",
     "text": [
      "(4, 556)\n",
      "('hello', 'world')\n"
     ]
    }
   ],
   "source": [
    "s = (4, 556)\n",
    "print(s)\n",
    "\n",
    "# this is also a tuple\n",
    "s = \"hello\", \"world\"\n",
    "print(s)"
   ]
  },
  {
   "cell_type": "code",
   "execution_count": 45,
   "metadata": {},
   "outputs": [
    {
     "data": {
      "text/plain": [
       "'hello'"
      ]
     },
     "execution_count": 45,
     "metadata": {},
     "output_type": "execute_result"
    }
   ],
   "source": [
    "s[0]"
   ]
  },
  {
   "cell_type": "code",
   "execution_count": 46,
   "metadata": {},
   "outputs": [
    {
     "data": {
      "text/plain": [
       "'world'"
      ]
     },
     "execution_count": 46,
     "metadata": {},
     "output_type": "execute_result"
    }
   ],
   "source": [
    "s[1]"
   ]
  },
  {
   "cell_type": "code",
   "execution_count": 47,
   "metadata": {},
   "outputs": [
    {
     "data": {
      "text/plain": [
       "'world'"
      ]
     },
     "execution_count": 47,
     "metadata": {},
     "output_type": "execute_result"
    }
   ],
   "source": [
    "s[-1]"
   ]
  },
  {
   "cell_type": "code",
   "execution_count": 48,
   "metadata": {},
   "outputs": [
    {
     "data": {
      "text/plain": [
       "('hello', 'world')"
      ]
     },
     "execution_count": 48,
     "metadata": {},
     "output_type": "execute_result"
    }
   ],
   "source": [
    "s[:]"
   ]
  },
  {
   "cell_type": "markdown",
   "metadata": {},
   "source": [
    "## Python tuples are immutable"
   ]
  },
  {
   "cell_type": "code",
   "execution_count": 49,
   "metadata": {},
   "outputs": [
    {
     "ename": "TypeError",
     "evalue": "'tuple' object does not support item assignment",
     "output_type": "error",
     "traceback": [
      "\u001b[1;31m---------------------------------------------------------------------------\u001b[0m",
      "\u001b[1;31mTypeError\u001b[0m                                 Traceback (most recent call last)",
      "\u001b[1;32m<ipython-input-49-8c9fd116c981>\u001b[0m in \u001b[0;36m<module>\u001b[1;34m\u001b[0m\n\u001b[1;32m----> 1\u001b[1;33m \u001b[0ms\u001b[0m\u001b[1;33m[\u001b[0m\u001b[1;36m0\u001b[0m\u001b[1;33m]\u001b[0m \u001b[1;33m=\u001b[0m \u001b[1;36m33\u001b[0m\u001b[1;33m\u001b[0m\u001b[1;33m\u001b[0m\u001b[0m\n\u001b[0m",
      "\u001b[1;31mTypeError\u001b[0m: 'tuple' object does not support item assignment"
     ]
    }
   ],
   "source": [
    "s[0] = 33"
   ]
  },
  {
   "cell_type": "code",
   "execution_count": 50,
   "metadata": {},
   "outputs": [
    {
     "ename": "TypeError",
     "evalue": "'tuple' object doesn't support item deletion",
     "output_type": "error",
     "traceback": [
      "\u001b[1;31m---------------------------------------------------------------------------\u001b[0m",
      "\u001b[1;31mTypeError\u001b[0m                                 Traceback (most recent call last)",
      "\u001b[1;32m<ipython-input-50-55f57cf8ea9a>\u001b[0m in \u001b[0;36m<module>\u001b[1;34m\u001b[0m\n\u001b[1;32m----> 1\u001b[1;33m \u001b[1;32mdel\u001b[0m \u001b[0ms\u001b[0m\u001b[1;33m[\u001b[0m\u001b[1;36m0\u001b[0m\u001b[1;33m]\u001b[0m\u001b[1;33m\u001b[0m\u001b[1;33m\u001b[0m\u001b[0m\n\u001b[0m",
      "\u001b[1;31mTypeError\u001b[0m: 'tuple' object doesn't support item deletion"
     ]
    }
   ],
   "source": [
    "del s[0]"
   ]
  },
  {
   "cell_type": "code",
   "execution_count": 51,
   "metadata": {},
   "outputs": [
    {
     "ename": "AttributeError",
     "evalue": "'tuple' object has no attribute 'append'",
     "output_type": "error",
     "traceback": [
      "\u001b[1;31m---------------------------------------------------------------------------\u001b[0m",
      "\u001b[1;31mAttributeError\u001b[0m                            Traceback (most recent call last)",
      "\u001b[1;32m<ipython-input-51-d29c205c481f>\u001b[0m in \u001b[0;36m<module>\u001b[1;34m\u001b[0m\n\u001b[1;32m----> 1\u001b[1;33m \u001b[0ms\u001b[0m\u001b[1;33m.\u001b[0m\u001b[0mappend\u001b[0m\u001b[1;33m(\u001b[0m\u001b[1;36m4\u001b[0m\u001b[1;33m)\u001b[0m\u001b[1;33m\u001b[0m\u001b[1;33m\u001b[0m\u001b[0m\n\u001b[0m",
      "\u001b[1;31mAttributeError\u001b[0m: 'tuple' object has no attribute 'append'"
     ]
    }
   ],
   "source": [
    "s.append(4)"
   ]
  },
  {
   "cell_type": "markdown",
   "metadata": {},
   "source": [
    "# Multiple assignment syntax works via tuple"
   ]
  },
  {
   "cell_type": "code",
   "execution_count": 52,
   "metadata": {},
   "outputs": [
    {
     "name": "stdout",
     "output_type": "stream",
     "text": [
      "4\n",
      "hello\n"
     ]
    }
   ],
   "source": [
    "# Tuple assignment\n",
    "\n",
    "# 4 is assignment to a, \"hello\" is assigned to b\n",
    "(a, b) = (4, \"hello\")\n",
    "print(a)\n",
    "print(b)\n"
   ]
  },
  {
   "cell_type": "markdown",
   "metadata": {},
   "source": [
    "## Python mutiple assignment is tuple assignment"
   ]
  },
  {
   "cell_type": "code",
   "execution_count": 53,
   "metadata": {},
   "outputs": [
    {
     "name": "stdout",
     "output_type": "stream",
     "text": [
      "4\n",
      "hello\n"
     ]
    }
   ],
   "source": [
    "# Tuple assignment - no need for paren (comma separated values is a tuple)\n",
    "\n",
    "a, b = 4, \"hello\"\n",
    "print(a)\n",
    "print(b)"
   ]
  },
  {
   "cell_type": "markdown",
   "metadata": {},
   "source": [
    "# Multiple assignment syntax works with list as well\n",
    "\n"
   ]
  },
  {
   "cell_type": "code",
   "execution_count": 54,
   "metadata": {},
   "outputs": [
    {
     "name": "stdout",
     "output_type": "stream",
     "text": [
      "5\n",
      "world\n"
     ]
    }
   ],
   "source": [
    "[a, b] = 5, \"world\"\n",
    "print(a)\n",
    "print(b)"
   ]
  },
  {
   "cell_type": "markdown",
   "metadata": {},
   "source": [
    "## Implementing queues using python lists\n",
    "\n",
    "**Queue is a sequence where you add elements at one end (called \"tail or rear end\"). But we remove elements from the other end (called \"head or front end\")**. (**\"First In First Out\" - FIFO** discipline). We can implement queues using Python lists.\n",
    "\n",
    "Queues have two important operations:\n",
    "\n",
    "    * addq\n",
    "        add an element into the queue at the tail or rear end\n",
    "    * removeq\n",
    "        remove the first element (at the head end) from the queue and return it\n",
    "   "
   ]
  },
  {
   "cell_type": "code",
   "execution_count": 55,
   "metadata": {},
   "outputs": [
    {
     "name": "stdout",
     "output_type": "stream",
     "text": [
      "[12, 2, 5, 67]\n",
      "[12, 2, 5]\n",
      "[12, 2]\n",
      "[13, 12, 2]\n"
     ]
    }
   ],
   "source": [
    "# Implementing queue with Python lists\n",
    "\n",
    "# addq is just insert at the begin. i.e., we use list start as the \"rear\"/\"tail\" end of the queue\n",
    "\n",
    "q = [2, 5, 67]\n",
    "q.insert(0, 12)\n",
    "print(q)\n",
    "\n",
    "# removeq is just pop. => we use list end as queue's \"head\"/\"front\" end\n",
    "q.pop()\n",
    "print(q)\n",
    "\n",
    "q.pop()\n",
    "print(q)\n",
    "\n",
    "q.insert(0, 13)\n",
    "print(q)"
   ]
  },
  {
   "cell_type": "code",
   "execution_count": null,
   "metadata": {},
   "outputs": [],
   "source": []
  }
 ],
 "metadata": {
  "kernelspec": {
   "display_name": "Python 3",
   "language": "python",
   "name": "python3"
  },
  "language_info": {
   "codemirror_mode": {
    "name": "ipython",
    "version": 3
   },
   "file_extension": ".py",
   "mimetype": "text/x-python",
   "name": "python",
   "nbconvert_exporter": "python",
   "pygments_lexer": "ipython3",
   "version": "3.7.6"
  }
 },
 "nbformat": 4,
 "nbformat_minor": 2
}
