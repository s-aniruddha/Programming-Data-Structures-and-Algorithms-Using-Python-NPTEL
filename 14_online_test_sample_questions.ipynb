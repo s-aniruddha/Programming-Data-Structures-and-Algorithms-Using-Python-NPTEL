{
 "cells": [
  {
   "cell_type": "markdown",
   "metadata": {},
   "source": [
    "## Question 1\n",
    "\n",
    "Here is an function to return the maximum value among three positive integers. There is an error in this function. Provide an input triple (n1,n2,n3), where n1, n2 and n3 are all positive integers, for which max3bad produces an incorrect output."
   ]
  },
  {
   "cell_type": "code",
   "execution_count": 2,
   "metadata": {},
   "outputs": [],
   "source": [
    "def max3bad(x,y,z):\n",
    "  maximum = 0\n",
    "  if x >= y:\n",
    "    if x >= z:\n",
    "      maximum = x\n",
    "  elif y >= z:\n",
    "    maximum = y\n",
    "  else:\n",
    "    maximum = z\n",
    "  return(maximum)"
   ]
  },
  {
   "cell_type": "markdown",
   "metadata": {},
   "source": [
    "One way is to think of all possible cases. i.e, equivalent classes of all possible inputs. Different cases are:\n",
    "\n",
    "    * x, y, z are all different values\n",
    "        Three sub-cases. Any of x, y, z can be maximum\n",
    "    * x, y, z are all same value\n",
    "    * Two values are equal and the other value is lesser\n",
    "        Three subcases: The two equals values could be {x, y}, {y, z}, { z, x }\n",
    "    * Two values are equal and the other value is greater\n",
    "        Three subcases: The two equals values could be {x, y}, {y, z}, { z, x }\n",
    "\n",
    "Representative input for each case of the 10 cases:\n",
    "\n",
    "    3, 2, 1\n",
    "    2, 3, 1\n",
    "    1, 2, 3\n",
    "    1, 1, 1\n",
    "    5, 5, 3\n",
    "    5, 5, 7\n",
    "    5, 3, 5\n",
    "    5, 7, 5\n",
    "    3, 5, 5\n",
    "    7, 5, 5\n",
    "    \n",
    "Try all!   "
   ]
  },
  {
   "cell_type": "code",
   "execution_count": 23,
   "metadata": {},
   "outputs": [
    {
     "name": "stdout",
     "output_type": "stream",
     "text": [
      "0\n"
     ]
    }
   ],
   "source": [
    "# x == y < z case!\n",
    "print(max3bad(5, 5, 7))\n"
   ]
  },
  {
   "cell_type": "markdown",
   "metadata": {},
   "source": [
    "## Question 2\n",
    "\n",
    "Here is an implementation of mergesort, along with the associated merge function. There is a small error in the implementation. Provide an input list for which this version of mergesort produces an incorrect output."
   ]
  },
  {
   "cell_type": "code",
   "execution_count": 20,
   "metadata": {},
   "outputs": [],
   "source": [
    "def mergebad(l1,l2):\n",
    "  (lmerged,i,j) = ([],0,0)\n",
    "\n",
    "  while i+j < len(l1) + len(l2):\n",
    "    if i == len(l1):\n",
    "      lmerged.append(l2[j])\n",
    "      j = j+1\n",
    "    elif j == len(l2):\n",
    "      lmerged.append(l1[i])\n",
    "      i = i+1\n",
    "    elif l1[i] < l2[j]:\n",
    "      lmerged.append(l1[i])\n",
    "      i = i+1\n",
    "    elif l2[j] < l1[i]:\n",
    "      lmerged.append(l2[j])\n",
    "      j = j+1\n",
    "    else:\n",
    "      lmerged.append(l1[i])\n",
    "      i = i+1\n",
    "      j = j+1\n",
    "    \n",
    "  return(lmerged)    "
   ]
  },
  {
   "cell_type": "code",
   "execution_count": 30,
   "metadata": {},
   "outputs": [
    {
     "name": "stdout",
     "output_type": "stream",
     "text": [
      "[2, 3, 44, 55, 67]\n"
     ]
    }
   ],
   "source": [
    "# What if the values are equal? (last else: part) mergebad picks only one value!\n",
    "# But moves both i and j to next index!\n",
    "\n",
    "# 44 occurs only once in the merged!\n",
    "print(mergebad([2, 44, 55], [3, 44, 67]))"
   ]
  },
  {
   "cell_type": "markdown",
   "metadata": {},
   "source": [
    "## Question 3\n",
    "\n",
    "Here is a function to compute the largest of four input integers. You have to fill in the missing lines.\n"
   ]
  },
  {
   "cell_type": "code",
   "execution_count": 31,
   "metadata": {},
   "outputs": [
    {
     "name": "stdout",
     "output_type": "stream",
     "text": [
      "67\n",
      "45\n",
      "567\n"
     ]
    }
   ],
   "source": [
    "def max4(w,x,y,z):\n",
    "    if w >= x and w >= y and w >= z:\n",
    "        maximum = w\n",
    "    # Your code below this line\n",
    "\n",
    "    # straight code\n",
    "    # can you minimize comparisons but still get it right?\n",
    "    elif x >= y and x >= z and x >= w:\n",
    "        maximum = x\n",
    "    elif y >= x and y >= z and y >= w:\n",
    "        maximum = y\n",
    "    else:\n",
    "        # w, x, y are not maximums\n",
    "        # => z has to be maximum (or equal)\n",
    "        maximum = z\n",
    "    \n",
    "    # Your code above this line\n",
    "    return(maximum)\n",
    "\n",
    "print(max4(44, 67, 3, 6))\n",
    "print(max4(45, 45, 3, 16))\n",
    "print(max4(96, -233, 3, 567))"
   ]
  },
  {
   "cell_type": "markdown",
   "metadata": {},
   "source": [
    "## Question 4\n",
    "\n",
    "    A list is a palindrome if it reads the same forwards and backwards. For instance [], [7], [8,11,8] and [19,3,44,44,3,19] are palindromes, while [3,18,4] and [23,14,3,14,3,23] are not. Here is a recursive function to check if a list is a palindrome. You have to fill in the missing argument for the recursive call."
   ]
  },
  {
   "cell_type": "code",
   "execution_count": 32,
   "metadata": {},
   "outputs": [
    {
     "name": "stdout",
     "output_type": "stream",
     "text": [
      "True\n",
      "True\n",
      "False\n",
      "False\n"
     ]
    }
   ],
   "source": [
    "def mypalindrome(l):\n",
    "    if l == [] or len(l) == 1:\n",
    "        return(True)\n",
    "    else:\n",
    "        return l[0] == l[-1] and mypalindrome(l[1:-1])\n",
    "\n",
    "print(mypalindrome([19,3,44,44,3,19]))\n",
    "print(mypalindrome([8, 11, 8]))\n",
    "print(mypalindrome([3,18,4]))\n",
    "print(mypalindrome([23,14,3,14,3,23]))"
   ]
  },
  {
   "cell_type": "markdown",
   "metadata": {},
   "source": [
    "## Question 5\n",
    "\n",
    "A positive integer n is said to be perfect if the sum of the factors of n, other than n itself, add up to n. For instance 6 is perfect since the factors of 6 are {1,2,3,6} and 1+2+3=6. Likewise, 28 is perfect because the factors of 28 are {1,2,4,7,14,28} and 1+2+4+7+14=28.\n",
    "\n",
    "Write a Python function perfect(n) that takes a positive integer argument and returns True if the integer is perfect, and False otherwise."
   ]
  },
  {
   "cell_type": "code",
   "execution_count": 33,
   "metadata": {},
   "outputs": [
    {
     "name": "stdout",
     "output_type": "stream",
     "text": [
      "True\n",
      "True\n",
      "False\n"
     ]
    }
   ],
   "source": [
    "def perfect(n):\n",
    "    # 1 divides any number. \n",
    "    total = 1\n",
    "    # for every number in [2, n) check if it is factor\n",
    "    # if so, add it to the total\n",
    "    for i in range(2, n):\n",
    "        if n % i == 0:\n",
    "            total += i\n",
    "            \n",
    "    # return if the total is equal to the number\n",
    "    return n == total\n",
    "\n",
    "print(perfect(6))\n",
    "print(perfect(28))\n",
    "print(perfect(56))"
   ]
  },
  {
   "cell_type": "markdown",
   "metadata": {},
   "source": [
    "## Question 6\n",
    "\n",
    "    Write a Python function sublist(l1,l2) that takes two sorted lists as arguments and returns True if the the first list is a sublist of the second list, and returns False otherwise.\n",
    "\n",
    "    A sublist of a list is a segment consisting of contiguous values, without a gap. Thus, [2,3,4] is a sublist of [2,2,3,4,5], but [2,2,4] and [2,4,5] are not."
   ]
  },
  {
   "cell_type": "code",
   "execution_count": 34,
   "metadata": {},
   "outputs": [
    {
     "name": "stdout",
     "output_type": "stream",
     "text": [
      "True\n",
      "False\n",
      "True\n",
      "True\n"
     ]
    }
   ],
   "source": [
    "# Given: both l1 and l2 are sorted\n",
    "# Find if l1 is sublist of l2\n",
    "# Because both lists are sorted, we adjust mergesort's merge procedure\n",
    "# for the current problem\n",
    "def sublist(l1, l2):\n",
    "    i, j = 0, 0\n",
    "    m, n = len(l1), len(l2)\n",
    "    # i indexes into l1 and j indexes into l2\n",
    "    while i+j < m + n:\n",
    "        if i == m:\n",
    "            # First list exhausted => we've a sublist match\n",
    "            return True\n",
    "        elif j == n:\n",
    "            # Second list exhausted => we don't have a sublist match\n",
    "            # as there are more elements in first list\n",
    "            return False\n",
    "        elif l1[i] < l2[j]:\n",
    "            # Element from the first list element is smaller. We can't\n",
    "            # have a match anymore in second list. (sort assumption)\n",
    "            return False\n",
    "        elif l2[j] < l1[i]:\n",
    "            # second list element is smaller perhaps our first list\n",
    "            # may match in later part of the second list\n",
    "            j = j + 1\n",
    "        else:\n",
    "            # correspoding elements are equal\n",
    "            # increment both indices \n",
    "            i = i + 1\n",
    "            j = j + 1\n",
    "    \n",
    "    return i == m\n",
    "    \n",
    "print(sublist([2, 2, 3, 4], [2, 2, 3, 4, 5]))\n",
    "print(sublist([2,2,4], [2,4,5]))\n",
    "print(sublist([2,2,2], [2,2,2]))\n",
    "print(sublist([2,2,3], [1,2,2,2,3]))"
   ]
  },
  {
   "cell_type": "markdown",
   "metadata": {},
   "source": [
    "## Question 7\n",
    "\n",
    "Write a Python program that reads input from the keyboard (standard input). The input will consist of some number of lines of text. The input will be terminated by a blank line. Your program should print every third line.\n",
    "\n",
    "For instance, if the input is the following:\n",
    "\n",
    "\"Spot the mistake\n",
    "in the following argument\",\n",
    "Jack challenged\n",
    "1+(-1+1)+(-1+1)+... = (1+ -1)+(1+ -1)+...\n",
    "so therefore,\n",
    "1 = 0\n",
    "??\n",
    "\n",
    "then the output should be:\n",
    "\n",
    "Jack challenged\n",
    "1 = 0\n",
    "\n"
   ]
  },
  {
   "cell_type": "code",
   "execution_count": 35,
   "metadata": {},
   "outputs": [
    {
     "name": "stdout",
     "output_type": "stream",
     "text": [
      "ppp\n",
      "qqq\n",
      "rrr\n",
      "sss\n",
      "ttt\n",
      "uuu\n",
      "vvv\n",
      "www\n",
      "xxx\n",
      "yyy\n",
      "zzz\n",
      "\n",
      "rrr\n",
      "uuu\n",
      "xxx\n"
     ]
    }
   ],
   "source": [
    "lines = []\n",
    "count = 1\n",
    "while True:\n",
    "    i = input()\n",
    "    if i == \"\":\n",
    "        break\n",
    "        \n",
    "    # store only every third line\n",
    "    if count % 3 == 0:\n",
    "        lines.append(i)\n",
    "    count += 1\n",
    "    \n",
    "for l in lines:\n",
    "    print(l)"
   ]
  },
  {
   "cell_type": "markdown",
   "metadata": {},
   "source": [
    "## Question 8\n",
    "\n",
    "    Write a Python function repeated(l) that takes a list of immutable values as argument. The function should return the number of values that are repeated in the input list.\n",
    "\n",
    "    For instance, repeated([1,17,22,17,23,17]) should return 1 because only 1 value, 17 is repeated. Likewise repeated([\"the\",\"higher\",\"you\",\"climb\",\"the\",\"further\",\"you\",\"fall\"]) is 2 becaues 2 values, \"the\" and \"you\", are repeated."
   ]
  },
  {
   "cell_type": "code",
   "execution_count": 82,
   "metadata": {},
   "outputs": [
    {
     "name": "stdout",
     "output_type": "stream",
     "text": [
      "1\n",
      "2\n"
     ]
    }
   ],
   "source": [
    "# you want to check if things are already visited or not\n",
    "\n",
    "def repeated(l):\n",
    "    d = dict()\n",
    "    for i in l:\n",
    "        # value already in dict, bump up the count\n",
    "        if i in d:\n",
    "            d[i] = d[i] + 1\n",
    "        else:\n",
    "            # Not in dict. Set count against key to be 1\n",
    "            d[i] = 1\n",
    "            \n",
    "    repeated = 0\n",
    "    \n",
    "    # find items in which value is > 1\n",
    "    # (meaning it is repeated)\n",
    "    for i in d.items():\n",
    "        if i[1] > 1:\n",
    "            repeated += 1\n",
    "    return repeated\n",
    "\n",
    "print(repeated([1,17,22,17,23,17]))\n",
    "print(repeated([\"the\",\"higher\",\"you\",\"climb\",\"the\",\"further\",\"you\",\"fall\"]))"
   ]
  }
 ],
 "metadata": {
  "kernelspec": {
   "display_name": "Python 3",
   "language": "python",
   "name": "python3"
  },
  "language_info": {
   "codemirror_mode": {
    "name": "ipython",
    "version": 3
   },
   "file_extension": ".py",
   "mimetype": "text/x-python",
   "name": "python",
   "nbconvert_exporter": "python",
   "pygments_lexer": "ipython3",
   "version": "3.7.3"
  }
 },
 "nbformat": 4,
 "nbformat_minor": 2
}
