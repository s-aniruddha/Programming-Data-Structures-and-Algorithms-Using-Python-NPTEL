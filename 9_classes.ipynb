{
 "cells": [
  {
   "cell_type": "markdown",
   "metadata": {},
   "source": [
    "## Abstract Data Type\n",
    "\n",
    "When you use types like list, dict, set etc., all you see is a bunch of API methods. You don't see the internal implementation of those types. These are called **Abstract Data Types**. A dict (dictionary) object would support retrieval of a value associated with a key as a O(1) operation. You don't care how it achieves the same. Similarly your model of stack would be a LIFO queue with\n",
    "\n",
    "    push (put an element into the stack)\n",
    "    pop (pop the last pushed element)\n",
    "    peek (check if the stack is empty)\n",
    "        \n",
    "It does not matter how a stack is implemented. The documentation clearly specifies inputs and output of each interface method. Sometimes the method may specify performance guarantees (like this is a O(1) method, this is a O(logN) method and so on) as part of documentation. A (minimum) Prioriy queue or (min) Heap data type may specify only two methods: \n",
    "\n",
    "    delete_min() method to retrieve next minimum most value\n",
    "    add(value) method to add a new value. \n",
    "\n",
    "In addition, Heap class may document about performance expecations for those methods.\n",
    "\n",
    "Python supports class construct to implement ADTs. A class is collection of methods and member fields. A class specifies how objects of the class behave (\"blueprint\"). An object is a specific instance of a class. We can create any number of objects of a class. Each object (aka. \"instance\") will have its own copy of member fields (aka \"instance variables\", \"member variables\" or just \"fields\"). \n",
    "\n",
    "The methods of a class are nothing but functions defined within the class. The methods have a first parameter called \"self\". The \"self\" parameter is the object on which the method was called on.\n",
    "\n",
    "```python\n",
    "\n",
    "    # very very simple Python class\n",
    "    class Foo:\n",
    "        pass\n",
    "```\n",
    "\n",
    "We create an object by invoking class as a function.\n",
    "\n",
    "```python\n",
    "\n",
    "    # two objects of the class Foo\n",
    "    f1 = Foo()\n",
    "    f2 = Foo()\n",
    "```\n",
    "\n",
    "**You may want to check out these videos from NPTEL Python course by Prof. Mukund Madhavan**\n",
    "\n",
    "[Abstract datatypes, Classes and Objects](https://youtu.be/D__znhgteJ0)\n",
    "\n",
    "[Classes and Objects in Python](https://youtu.be/KhvV7EEEq4I)"
   ]
  },
  {
   "cell_type": "code",
   "execution_count": 1,
   "metadata": {},
   "outputs": [
    {
     "name": "stdout",
     "output_type": "stream",
     "text": [
      "<class '__main__.Foo'>\n",
      "<class '__main__.Foo'>\n",
      "<__main__.Foo object at 0x0000027871191688>\n",
      "<__main__.Foo object at 0x0000027871166C48>\n"
     ]
    }
   ],
   "source": [
    "class Foo:\n",
    "    pass\n",
    "\n",
    "f1 = Foo()\n",
    "f2 = Foo()\n",
    "\n",
    "print(type(f1))\n",
    "print(type(f2))\n",
    "print(f1)\n",
    "print(f2)"
   ]
  },
  {
   "cell_type": "markdown",
   "metadata": {},
   "source": [
    "## Constructor method\n",
    "\n",
    "A class may define a special method called \\_\\_init\\_\\_. This is called constructor method. This is called by the Python interpreter whenever a new object of this class is created. Immediately after allocating memory for the new object, Python will invoke \\_\\_init\\_\\_ to initialize the object. \\_\\_init\\_\\_ method should not return anything. If it has a return statement, it should just be \"return\" or \"return None\".\n",
    "\n",
    "Example:\n",
    "\n",
    "```python\n",
    "    class Foo:\n",
    "        def __init__(self):\n",
    "            print(\"Foo object is created\")\n",
    "```"
   ]
  },
  {
   "cell_type": "code",
   "execution_count": 2,
   "metadata": {},
   "outputs": [
    {
     "name": "stdout",
     "output_type": "stream",
     "text": [
      "A Foo object is initialized\n",
      "A Foo object is initialized\n"
     ]
    }
   ],
   "source": [
    "class Foo:\n",
    "    def __init__(self):\n",
    "        print(\"A Foo object is initialized\")\n",
    "        \n",
    "f1 = Foo()\n",
    "f2 = Foo()"
   ]
  },
  {
   "cell_type": "markdown",
   "metadata": {},
   "source": [
    "## Constructor method initializes an object\n",
    "\n",
    "Constructor method would usually initialize one or more instance variables or member variables"
   ]
  },
  {
   "cell_type": "code",
   "execution_count": 3,
   "metadata": {},
   "outputs": [
    {
     "name": "stdout",
     "output_type": "stream",
     "text": [
      "2 4\n",
      "3 5\n"
     ]
    }
   ],
   "source": [
    "class Point:\n",
    "    # simple constructor that initializes two member variables\n",
    "    def __init__(self, x, y):\n",
    "        self.x = x\n",
    "        self.y = y\n",
    "\n",
    "p1 = Point(2, 4)\n",
    "p2 = Point(3, 5)\n",
    "\n",
    "# unlike Java or C++, there is no notion of public/private members in Python.\n",
    "# Everything is accessible everywhere! Let's print member variables of the above\n",
    "# two Point objects. But, it is generally not a good idea to access member variables\n",
    "# directly. It is better to use only the methods of the class.\n",
    "\n",
    "print(p1.x, p1.y)\n",
    "print(p2.x, p2.y)"
   ]
  },
  {
   "cell_type": "markdown",
   "metadata": {},
   "source": [
    "## Other methods\n",
    "\n",
    "A class usually will have other methods that just a constructor!"
   ]
  },
  {
   "cell_type": "code",
   "execution_count": 4,
   "metadata": {},
   "outputs": [
    {
     "name": "stdout",
     "output_type": "stream",
     "text": [
      "5.0\n",
      "1.4142135623730951\n"
     ]
    }
   ],
   "source": [
    "import math\n",
    "\n",
    "class Point:\n",
    "    def __init__(self, x, y):\n",
    "        self.x = x\n",
    "        self.y = y\n",
    "    \n",
    "    # distance from the origin\n",
    "    def distance(self):\n",
    "        return math.sqrt(self.x ** 2 + self.y ** 2)\n",
    "    \n",
    "p1 = Point(3, 4)\n",
    "p2 = Point(1, 1)\n",
    "print(p1.distance())\n",
    "print(p2.distance())"
   ]
  },
  {
   "cell_type": "markdown",
   "metadata": {},
   "source": [
    "## object identity operators: is, is not and id function\n",
    "\n",
    "In Python, everything is an object (**uniform object model**). Objects have identity. Python assignment statements do *not* copy objects. Same object is referred by two variables after assignment.\n",
    "\n",
    "**Identity comparisons**\n",
    "\n",
    "The operators **is** and **is not** test for an object’s identity: x is y is true if and only if x and y refer to the same/identical object. \n",
    "\n",
    "**id** function\n",
    "\n",
    "There is a global **id** function that returns unique integer identifier for an object. The object id remains the same throughout the lifetime of an object."
   ]
  },
  {
   "cell_type": "code",
   "execution_count": 4,
   "metadata": {},
   "outputs": [
    {
     "name": "stdout",
     "output_type": "stream",
     "text": [
      "t is s? True\n",
      "t is not s? False\n",
      "u is s? False\n",
      "u is not s? True\n"
     ]
    }
   ],
   "source": [
    "s = [3, 5]\n",
    "t = s # t refers to the same object\n",
    "print(\"t is s?\", t is s)\n",
    "print(\"t is not s?\", t is not s)\n",
    "\n",
    "# t now refers to a *different* list with the same element values\n",
    "u = [3, 5]\n",
    "print(\"u is s?\", u is s)\n",
    "print(\"u is not s?\", u is not s)"
   ]
  },
  {
   "cell_type": "code",
   "execution_count": 5,
   "metadata": {},
   "outputs": [
    {
     "data": {
      "text/plain": [
       "False"
      ]
     },
     "execution_count": 5,
     "metadata": {},
     "output_type": "execute_result"
    }
   ],
   "source": [
    "x = []\n",
    "y = []\n",
    "\n",
    "# x, y refer to two different empty lists\n",
    "x is y"
   ]
  },
  {
   "cell_type": "code",
   "execution_count": 6,
   "metadata": {},
   "outputs": [
    {
     "data": {
      "text/plain": [
       "False"
      ]
     },
     "execution_count": 6,
     "metadata": {},
     "output_type": "execute_result"
    }
   ],
   "source": [
    "x = {}\n",
    "y = {}\n",
    "\n",
    "# x , y refer two different empty dictionaries\n",
    "x is y"
   ]
  },
  {
   "cell_type": "code",
   "execution_count": 7,
   "metadata": {},
   "outputs": [
    {
     "data": {
      "text/plain": [
       "True"
      ]
     },
     "execution_count": 7,
     "metadata": {},
     "output_type": "execute_result"
    }
   ],
   "source": [
    "## Only one copy of (atomic) immutable data ever exists!\n",
    "\n",
    "s = \"hello\"\n",
    "t = \"hello\"\n",
    "# s and t refer to identical strings\n",
    "s is t"
   ]
  },
  {
   "cell_type": "code",
   "execution_count": 8,
   "metadata": {},
   "outputs": [
    {
     "data": {
      "text/plain": [
       "True"
      ]
     },
     "execution_count": 8,
     "metadata": {},
     "output_type": "execute_result"
    }
   ],
   "source": [
    "s = 45\n",
    "t = 45\n",
    "\n",
    "# s and t refer to identical integers\n",
    "s is t"
   ]
  },
  {
   "cell_type": "code",
   "execution_count": 11,
   "metadata": {},
   "outputs": [
    {
     "name": "stdout",
     "output_type": "stream",
     "text": [
      "2716316862216\n",
      "2716316860872\n",
      "2716316860872\n"
     ]
    }
   ],
   "source": [
    "x = [3, 5]\n",
    "print(id(x))\n",
    "y = [3, 5]\n",
    "print(id(y))\n",
    "z = y\n",
    "print(id(z))\n",
    "\n",
    "# x is y <=> id(x) == id(y)\n",
    "# x is not y <=> id(x) != id(y)"
   ]
  },
  {
   "cell_type": "markdown",
   "metadata": {},
   "source": [
    "## Identity vs. value comparison\n",
    "\n",
    "Two objects may not identical objects but have the same value. For example, two different lists may have the same number of elements and the corresponding elements are of equal value. In that case, we say the objects are equal. Value equality is different from identity. Value equality is tested by == and != operators. If two objects are identical, they're equal. But the converse is not true. Two equal objects need not be identical. "
   ]
  },
  {
   "cell_type": "code",
   "execution_count": 12,
   "metadata": {},
   "outputs": [
    {
     "name": "stdout",
     "output_type": "stream",
     "text": [
      "x is y? False\n",
      "x == y? True\n",
      "z is y? True\n",
      "z == y? True\n",
      "z is x? False\n",
      "z == x? True\n"
     ]
    }
   ],
   "source": [
    "x = [\"java\", \"c++\"]\n",
    "y = [\"java\", \"c++\"]\n",
    "z = y\n",
    "print(\"x is y?\", x is y)\n",
    "print(\"x == y?\", x == y)\n",
    "print(\"z is y?\", z is y)\n",
    "print(\"z == y?\", z == y)\n",
    "print(\"z is x?\", z is x)\n",
    "print(\"z == x?\", z == x)"
   ]
  },
  {
   "cell_type": "markdown",
   "metadata": {},
   "source": [
    "## Simple user-defined class: queue\n",
    "\n",
    "queue is a first-in-first-out sequence. Elements are added from one end called \"tail\"/\"rear\" end. Elements are removed from another end called \"head\" / \"front\" end.\n",
    "\n",
    "Earlier we saw how Python list can be used as a queue. For addq(value), we user insert(0, value) on the list. For removeq(), we use pop method on the list. Effectively we use start of the list as the \"rear\" of the queue. And we use the end of the list as the \"head\" end of the queue.\n",
    "\n",
    "But this queue discipline can be violated easily. User has to remember to use insert and pop in a specific way to maintain queue discipline. Here we present a simple queue class implementation which uses list internally.\n",
    "\n",
    "\n",
    "**You may want to check out this videos from NPTEL Python course by Prof. Mukund Madhavan**\n",
    "\n",
    "[Sets, stacks, queues](https://youtu.be/l_5bPOV7qB8)"
   ]
  },
  {
   "cell_type": "code",
   "execution_count": 13,
   "metadata": {},
   "outputs": [],
   "source": [
    "class queue:\n",
    "    # constructor accepts a sequence. If no sequence was passed\n",
    "    # we create an empty queue. If a sequence is passed, we add its\n",
    "    # elements to the queue\n",
    "    def __init__(self, seq = None):\n",
    "        # we use a list type data member to store elements of this queue\n",
    "        self.elements = []\n",
    "        \n",
    "        # check if seq was passed\n",
    "        if seq:\n",
    "            for i in seq:\n",
    "                self.addq(i)\n",
    "       \n",
    "    # add an element to the queue at the rear end\n",
    "    def addq(self, elem):\n",
    "        # we use list's start as queue's rear end\n",
    "        self.elements.insert(0, elem)\n",
    "        \n",
    "    # remove an element from head and return it\n",
    "    def removeq(self):\n",
    "        return self.elements.pop()\n",
    "        \n",
    "    # tells whether this queue is empty or not\n",
    "    def isempty(self):\n",
    "        # just check the length of the list\n",
    "        return len(self.elements) == 0\n",
    "    \n",
    "    # string representation of this queue for printing. This is called if user converts\n",
    "    # this queue to string by \"str\"\n",
    "    def __str__(self):\n",
    "        # note that we reversed direction while storing (so that we can use pop to implement removeq)\n",
    "        # So we reverse the list and return string representation of it.\n",
    "        return str(self.elements[::-1])\n",
    "\n",
    "    # return the length of this queue. This method is called when user calls \"len\" on this queue\n",
    "    def __len__(self):\n",
    "        # just return the length of the undelying list\n",
    "        return len(self.elements)"
   ]
  },
  {
   "cell_type": "code",
   "execution_count": 14,
   "metadata": {},
   "outputs": [
    {
     "name": "stdout",
     "output_type": "stream",
     "text": [
      "True\n",
      "['java', 'javascript']\n",
      "java\n",
      "javascript\n",
      "[]\n"
     ]
    }
   ],
   "source": [
    "s = queue()\n",
    "print(s.isempty())\n",
    "s.addq(\"java\")\n",
    "s.addq(\"javascript\")\n",
    "print(s)\n",
    "print(s.removeq())\n",
    "print(s.removeq())\n",
    "print(s)"
   ]
  },
  {
   "cell_type": "code",
   "execution_count": 15,
   "metadata": {},
   "outputs": [
    {
     "name": "stdout",
     "output_type": "stream",
     "text": [
      "['apple', 'banana', 'orange']\n",
      "3\n"
     ]
    }
   ],
   "source": [
    "s = queue([\"apple\", \"banana\", \"orange\"])\n",
    "print(s)\n",
    "print(len(s))"
   ]
  },
  {
   "cell_type": "code",
   "execution_count": 16,
   "metadata": {},
   "outputs": [
    {
     "name": "stdout",
     "output_type": "stream",
     "text": [
      "apple\n",
      "False\n",
      "['banana', 'orange']\n",
      "['banana', 'orange', 'strawberry']\n"
     ]
    }
   ],
   "source": [
    "print(s.removeq())\n",
    "print(s.isempty())\n",
    "print(s)\n",
    "s.addq(\"strawberry\")\n",
    "print(s)"
   ]
  },
  {
   "cell_type": "markdown",
   "metadata": {},
   "source": [
    "## Simple user-defined class: stack\n",
    "\n",
    "\n",
    "A stack is a last-in-first-out sequence. Elements are added and removed from the same end.\n",
    "\n",
    "Earlier we saw how Python list can be used as a stack. For push(value), we user append(value) on the list. For pop(), we use pop method on the list. \n",
    "\n",
    "But this stack discipline can be violated easily. User has to remember to use append and pop in a specific way to maintain stack discipline. Here we present a simple stack class implementation which uses list internally."
   ]
  },
  {
   "cell_type": "code",
   "execution_count": 17,
   "metadata": {},
   "outputs": [],
   "source": [
    "class stack:\n",
    "    # constructor accepts a sequence. If no sequence was passed\n",
    "    # we create an empty stack. If a sequence is passed, we push its\n",
    "    # elements to the stack\n",
    "    def __init__(self, seq = None):\n",
    "        # we use a list type data member to store elements of this stack\n",
    "        self.elements = []\n",
    "        \n",
    "        # check if seq was passed\n",
    "        if seq:\n",
    "            for i in seq:\n",
    "                self.push(i)\n",
    "       \n",
    "    # push an element to this stack\n",
    "    def push(self, elem):\n",
    "        self.elements.append(elem)\n",
    "        \n",
    "    # pop an element from this stack\n",
    "    def pop(self):\n",
    "        return self.elements.pop()\n",
    "            \n",
    "    # tells whether this stack is empty or not\n",
    "    def isempty(self):\n",
    "        # just check the length of the list\n",
    "        return len(self.elements) == 0\n",
    "    \n",
    "    # string representation of this stack for printing. This is called if user converts\n",
    "    # this stack to string by \"str\"\n",
    "    def __str__(self):\n",
    "        return str(self.elements)\n",
    "\n",
    "    # return the length of this stack. This method is called when user calls \"len\" on this stack\n",
    "    def __len__(self):\n",
    "        # just return the length of the undelying list\n",
    "        return len(self.elements)"
   ]
  },
  {
   "cell_type": "code",
   "execution_count": 18,
   "metadata": {},
   "outputs": [
    {
     "name": "stdout",
     "output_type": "stream",
     "text": [
      "2\n",
      "['java', 'javascript']\n",
      "javascript\n",
      "java\n",
      "0\n",
      "[]\n"
     ]
    }
   ],
   "source": [
    "s = stack()\n",
    "s.push(\"java\")\n",
    "s.push(\"javascript\")\n",
    "print(len(s))\n",
    "print(s)\n",
    "print(s.pop())\n",
    "print(s.pop())\n",
    "print(len(s))\n",
    "print(s)"
   ]
  },
  {
   "cell_type": "code",
   "execution_count": 19,
   "metadata": {},
   "outputs": [
    {
     "data": {
      "text/plain": [
       "'orange'"
      ]
     },
     "execution_count": 19,
     "metadata": {},
     "output_type": "execute_result"
    }
   ],
   "source": [
    "s = stack([\"apple\", \"banana\", \"orange\"])\n",
    "s.pop()"
   ]
  },
  {
   "cell_type": "code",
   "execution_count": 20,
   "metadata": {},
   "outputs": [
    {
     "data": {
      "text/plain": [
       "'banana'"
      ]
     },
     "execution_count": 20,
     "metadata": {},
     "output_type": "execute_result"
    }
   ],
   "source": [
    "s.pop()"
   ]
  },
  {
   "cell_type": "code",
   "execution_count": 21,
   "metadata": {},
   "outputs": [
    {
     "data": {
      "text/plain": [
       "'apple'"
      ]
     },
     "execution_count": 21,
     "metadata": {},
     "output_type": "execute_result"
    }
   ],
   "source": [
    "s.pop()"
   ]
  },
  {
   "cell_type": "code",
   "execution_count": 22,
   "metadata": {},
   "outputs": [
    {
     "name": "stdout",
     "output_type": "stream",
     "text": [
      "True\n"
     ]
    },
    {
     "ename": "IndexError",
     "evalue": "pop from empty list",
     "output_type": "error",
     "traceback": [
      "\u001b[1;31m---------------------------------------------------------------------------\u001b[0m",
      "\u001b[1;31mIndexError\u001b[0m                                Traceback (most recent call last)",
      "\u001b[1;32m<ipython-input-22-b79380fee378>\u001b[0m in \u001b[0;36m<module>\u001b[1;34m\u001b[0m\n\u001b[0;32m      1\u001b[0m \u001b[0mprint\u001b[0m\u001b[1;33m(\u001b[0m\u001b[0ms\u001b[0m\u001b[1;33m.\u001b[0m\u001b[0misempty\u001b[0m\u001b[1;33m(\u001b[0m\u001b[1;33m)\u001b[0m\u001b[1;33m)\u001b[0m\u001b[1;33m\u001b[0m\u001b[1;33m\u001b[0m\u001b[0m\n\u001b[1;32m----> 2\u001b[1;33m \u001b[0ms\u001b[0m\u001b[1;33m.\u001b[0m\u001b[0mpop\u001b[0m\u001b[1;33m(\u001b[0m\u001b[1;33m)\u001b[0m\u001b[1;33m\u001b[0m\u001b[1;33m\u001b[0m\u001b[0m\n\u001b[0m",
      "\u001b[1;32m<ipython-input-17-6f046dcec003>\u001b[0m in \u001b[0;36mpop\u001b[1;34m(self)\u001b[0m\n\u001b[0;32m     18\u001b[0m     \u001b[1;31m# pop an element from this stack\u001b[0m\u001b[1;33m\u001b[0m\u001b[1;33m\u001b[0m\u001b[1;33m\u001b[0m\u001b[0m\n\u001b[0;32m     19\u001b[0m     \u001b[1;32mdef\u001b[0m \u001b[0mpop\u001b[0m\u001b[1;33m(\u001b[0m\u001b[0mself\u001b[0m\u001b[1;33m)\u001b[0m\u001b[1;33m:\u001b[0m\u001b[1;33m\u001b[0m\u001b[1;33m\u001b[0m\u001b[0m\n\u001b[1;32m---> 20\u001b[1;33m         \u001b[1;32mreturn\u001b[0m \u001b[0mself\u001b[0m\u001b[1;33m.\u001b[0m\u001b[0melements\u001b[0m\u001b[1;33m.\u001b[0m\u001b[0mpop\u001b[0m\u001b[1;33m(\u001b[0m\u001b[1;33m)\u001b[0m\u001b[1;33m\u001b[0m\u001b[1;33m\u001b[0m\u001b[0m\n\u001b[0m\u001b[0;32m     21\u001b[0m \u001b[1;33m\u001b[0m\u001b[0m\n\u001b[0;32m     22\u001b[0m     \u001b[1;31m# tells whether this stack is empty or not\u001b[0m\u001b[1;33m\u001b[0m\u001b[1;33m\u001b[0m\u001b[1;33m\u001b[0m\u001b[0m\n",
      "\u001b[1;31mIndexError\u001b[0m: pop from empty list"
     ]
    }
   ],
   "source": [
    "print(s.isempty())\n",
    "s.pop()"
   ]
  },
  {
   "cell_type": "markdown",
   "metadata": {},
   "source": [
    "## user-defined list (linkedlist)\n",
    "\n",
    "Python's builtin list is an array list. The elements are stored contiguously and access to N'th element O(1) operation. But sometimes we want a linked list. Elements are accessed via \"next\" link and access to N'th element is a O(N) operation. \n",
    "\n",
    "(Linked) List is a sequence of nodes. Each node stores a \"value\" member variable and a link member variable to the next node called \"next\". The last node will have None as its \"next\" link (thereby terminating the list).\n",
    "\n",
    "How do we represent an empty list? We use \"value\" member variable and \"next\" member variable both are set to None.\n",
    "\n",
    "**If this sample is not clear, You may want to check out the following video from NPTEL Python course by Prof. Mukund Madhavan**\n",
    "\n",
    "[User defined Lists](https://youtu.be/mK7u8wf6pMs)\n"
   ]
  },
  {
   "cell_type": "code",
   "execution_count": 31,
   "metadata": {},
   "outputs": [],
   "source": [
    "class Node:\n",
    "    def __init__(self, initval=None):\n",
    "        # set value to the passed value\n",
    "        self.value = initval\n",
    "        # initially no next Node\n",
    "        self.next = None\n",
    "        \n",
    "    def isempty(self):\n",
    "        # if this list is empty, value is None by our convention\n",
    "        return self.value == None\n",
    "    \n",
    "    def append(self, value):\n",
    "        # Step 1: If current list is empty, just set value field\n",
    "        # to make it single element list and return\n",
    "        \n",
    "        # Step 2: If current node has no next, this is single element\n",
    "        # list. Just create a new Node and make it to be next node\n",
    "          \n",
    "        # Step 3: If we've self.next that is not None. We don't know where\n",
    "        # the list end. Call append recursively on the next node!\n",
    "        \n",
    "        if self.isempty():\n",
    "            self.value = value\n",
    "        elif self.next == None:\n",
    "            self.next = Node(value)\n",
    "        else:\n",
    "            self.next.append(value)\n",
    "            \n",
    "    # non-recursive (iterative) version of append called \"appendi\" (i for iterative)\n",
    "    def appendi(self, value):\n",
    "        if self.isempty():\n",
    "            self.value = value\n",
    "            return\n",
    "        \n",
    "        # find the last node by walking through the next links!\n",
    "        lastNode = self\n",
    "        while lastNode.next != None:\n",
    "            lastNode = lastNode.next\n",
    "        \n",
    "        # now create a new Node and set it to be next link of the last node!\n",
    "        lastNode.next = Node(value)\n",
    "            \n",
    "    # insert a new value at the start. \n",
    "    def insert(self, value):\n",
    "        # empty list. easy case. just set value & return\n",
    "        if self.value == None:\n",
    "            self.value = value\n",
    "            return\n",
    "        \n",
    "        # we want to insert a new node to the head of the list\n",
    "        # we can create a new Node. But user's list variable is\n",
    "        # pointing to the current Node! We can't change that!\n",
    "        \n",
    "        # create a new node\n",
    "        newNode = Node(value)\n",
    "        \n",
    "        # exchange newNode's value with value of the current node\n",
    "        self.value, newNode.value = newNode.value, self.value\n",
    "        \n",
    "        # set newNode to be current node's next. \n",
    "        # and set newNode's next to be current's next\n",
    "        # This way, user's variable is still pointing to the\n",
    "        # current node. But it has new value in it. Next points\n",
    "        # to the newNode.\n",
    "        \n",
    "        self.next, newNode.next = newNode, self.next\n",
    "        \n",
    "    # delete a value from this list, if it exists\n",
    "    def delete(self, value):\n",
    "        # nothing to delete from an empty list\n",
    "        if self.isempty():\n",
    "            return\n",
    "        \n",
    "        # first node matches the value\n",
    "        if self.value == value:\n",
    "            # is the first node the only node in the list?\n",
    "            if self.next == None:\n",
    "                self.value = None\n",
    "            else:\n",
    "                # we've next node. Just copy it's value & next here\n",
    "                # so that this node is effectively gone!\n",
    "                self.value = self.next.value\n",
    "                self.next = self.next.next\n",
    "        else:\n",
    "            if self.next != None:\n",
    "                # we should recursively delete\n",
    "                self.next.delete(value)\n",
    "                \n",
    "                # after recursive delete, we may have the situation\n",
    "                # that the very next node has become empty! (it has matching value earlier)\n",
    "                # if so, drop it from the chain!\n",
    "                if self.next.value == None:\n",
    "                     self.next = self.next.next\n",
    "                    \n",
    "    # delete a value from this list non-recursive (iterative) version\n",
    "    def deletei(self, value):\n",
    "        if self.isempty():\n",
    "            return\n",
    "        \n",
    "        if self.value == value:\n",
    "            # value to delete is in this node\n",
    "            if self.next == None:\n",
    "                self.value = value\n",
    "            else:\n",
    "                self.value = self.next.value\n",
    "                self.next = self.next.next\n",
    "            return\n",
    "        \n",
    "        # delete the first node that has value\n",
    "        temp = self\n",
    "        while temp.next != None:\n",
    "            if temp.next.value == value:\n",
    "                temp.next = temp.next.next\n",
    "            else:\n",
    "                temp = temp.next\n",
    "        \n",
    "    def length(self):\n",
    "        if self.isempty():\n",
    "            return 0\n",
    "        elif self.next == None:\n",
    "            return 1\n",
    "        else:\n",
    "            return 1 + self.next.length()\n",
    "        \n",
    "    # non-recursive version of length method\n",
    "    def lengthi(self):\n",
    "        if self.isempty():\n",
    "            return 0\n",
    "        # initialize length to be 1 because there is\n",
    "        # at least one Node (the current one)\n",
    "        length = 1\n",
    "        \n",
    "        # walk till next is Node and increment count everytime\n",
    "        lastNode = self\n",
    "        while lastNode.next != None:\n",
    "            lastNode = lastNode.next\n",
    "            length += 1\n",
    "            \n",
    "        return length\n",
    "    \n",
    "    # define a special __len__ method so that user can use global\n",
    "    # \"len\" function on our lists\n",
    "    def __len__(self):\n",
    "        return self.lengthi()\n",
    "    \n",
    "    # convert this list to Python list\n",
    "    def toList(self):\n",
    "        if self.value == None:\n",
    "            return []\n",
    "        elif self.next == None:\n",
    "            return [ self.value ]\n",
    "        else:\n",
    "            return [ self.value ] + self.next.toList()\n",
    "        \n",
    "    def __str__(self):\n",
    "        return str(self.toList())"
   ]
  },
  {
   "cell_type": "code",
   "execution_count": 32,
   "metadata": {},
   "outputs": [
    {
     "name": "stdout",
     "output_type": "stream",
     "text": [
      "True\n",
      "0\n"
     ]
    }
   ],
   "source": [
    "s = Node()\n",
    "print(s.isempty())\n",
    "print(len(s))"
   ]
  },
  {
   "cell_type": "code",
   "execution_count": 33,
   "metadata": {},
   "outputs": [
    {
     "name": "stdout",
     "output_type": "stream",
     "text": [
      "['banana', 'apple', 'orange', 'strawberry', 'blueberry']\n"
     ]
    }
   ],
   "source": [
    "s = Node()\n",
    "s.append(\"banana\")\n",
    "s.append(\"apple\")\n",
    "s.append(\"orange\")\n",
    "s.appendi(\"strawberry\")\n",
    "s.appendi(\"blueberry\")\n",
    "print(s)"
   ]
  },
  {
   "cell_type": "code",
   "execution_count": 34,
   "metadata": {},
   "outputs": [
    {
     "name": "stdout",
     "output_type": "stream",
     "text": [
      "5\n",
      "5\n",
      "5\n"
     ]
    }
   ],
   "source": [
    "print(s.length())\n",
    "print(s.lengthi())\n",
    "print(len(s))"
   ]
  },
  {
   "cell_type": "code",
   "execution_count": 35,
   "metadata": {},
   "outputs": [
    {
     "name": "stdout",
     "output_type": "stream",
     "text": [
      "['mango', 'banana', 'apple', 'orange', 'strawberry', 'blueberry']\n",
      "6\n"
     ]
    }
   ],
   "source": [
    "s.insert(\"mango\")\n",
    "print(s)\n",
    "print(len(s))"
   ]
  },
  {
   "cell_type": "code",
   "execution_count": 36,
   "metadata": {},
   "outputs": [
    {
     "name": "stdout",
     "output_type": "stream",
     "text": [
      "['mango', 'banana', 'apple', 'orange', 'strawberry', 'blueberry']\n",
      "['mango', 'banana', 'orange', 'strawberry', 'blueberry']\n",
      "['banana', 'orange', 'strawberry', 'blueberry']\n",
      "['banana', 'orange', 'strawberry']\n",
      "['banana', 'orange', 'strawberry']\n",
      "False\n"
     ]
    }
   ],
   "source": [
    "print(s)\n",
    "# try recursive delete\n",
    "s.delete(\"apple\")\n",
    "print(s)\n",
    "# try iterative version!\n",
    "s.deletei(\"mango\")\n",
    "print(s)\n",
    "s.delete(\"blueberry\")\n",
    "print(s)\n",
    "s.deletei(\"foo\") # does not exist!\n",
    "s.delete(\"bar\") # does not exist!\n",
    "print(s)\n",
    "print(s.isempty())"
   ]
  },
  {
   "cell_type": "markdown",
   "metadata": {},
   "source": [
    "## Simple Binary Tree class"
   ]
  },
  {
   "cell_type": "code",
   "execution_count": 28,
   "metadata": {},
   "outputs": [
    {
     "name": "stdout",
     "output_type": "stream",
     "text": [
      "((5)+((4)*(5)))\n",
      "+ 5 * 4 5 \n",
      " 5 4 5 * +\n",
      "25\n",
      " 4.565 5.5676 * 5.56765 +\n",
      "30.983744\n"
     ]
    }
   ],
   "source": [
    "# A binary Tree that consists of a value, a left Tree and a right Tree\n",
    "\n",
    "class Tree:\n",
    "    # left and right Tree are optional\n",
    "    def __init__(self, value, left = None, right = None):\n",
    "        self.value = value\n",
    "        self.left = left\n",
    "        self.right = right\n",
    "    \n",
    "    # inorder traversal\n",
    "    # In this traversal method, the left subtree is visited first,\n",
    "    # then the root and later the right sub-tree.\n",
    "    def inorder(self):\n",
    "        s = \"(\"\n",
    "        if self.left != None:\n",
    "            s += self.left.inorder()\n",
    "        s += str(self.value)\n",
    "        if self.right != None:\n",
    "            s += self.right.inorder()\n",
    "        s += \")\"\n",
    "        return s\n",
    "\n",
    "    # preorder traversal\n",
    "    # In this traversal method, the root node is visited first, \n",
    "    # then the left subtree and finally the right subtree.\n",
    "    def preorder(self):\n",
    "        s = str(self.value) + \" \"\n",
    "        if self.left != None:\n",
    "            s += self.left.preorder()\n",
    "        if self.right != None:\n",
    "            s += self.right.preorder()\n",
    "        return s\n",
    "\n",
    "    \n",
    "    # postorder traversal\n",
    "    # In this traversal method, the root node is visited last, hence the name.\n",
    "    # First we traverse the left subtree, then the right subtree and finally the root node.\n",
    "    def postorder(self):\n",
    "        s = \"\"\n",
    "        if self.left != None:\n",
    "            s += self.left.postorder()\n",
    "        if self.right != None:\n",
    "            s += self.right.postorder()\n",
    "        s += \" \" + str(self.value)\n",
    "        return s\n",
    "    \n",
    "    # evaluate method for \"four function\" expression trees\n",
    "    def evaluate(self):\n",
    "        value = 0\n",
    "        if self.left != None:\n",
    "            leftValue = self.left.evaluate()\n",
    "        if self.right != None:\n",
    "            rightValue = self.right.evaluate()\n",
    "        if self.value == \"+\":\n",
    "            return leftValue + rightValue\n",
    "        elif self.value == \"-\":\n",
    "            return leftValue - rightValue        \n",
    "        elif self.value == \"*\":\n",
    "            return leftValue * rightValue        \n",
    "        elif self.value == \"/\":\n",
    "            return leftValue / rightValue\n",
    "        else:\n",
    "            return self.value\n",
    "        \n",
    "# Abstract Syntax Tree (AST) of an expression involving\n",
    "# binary operators. A compiler's parser would generate such \n",
    "# a Tree for type checking and then to generate code\n",
    "\n",
    "t = Tree(\"+\", Tree(5), Tree(\"*\", Tree(4), Tree(5)))\n",
    "\n",
    "# inorder will print the expression in infix notation\n",
    "print(t.inorder())\n",
    "\n",
    "# preorder will print the expression in prefix notation\n",
    "print(t.preorder())\n",
    "\n",
    "# postorder will print the expression in postfix notation\n",
    "print(t.postorder())\n",
    "\n",
    "print(t.evaluate())\n",
    "\n",
    "t = Tree(\"+\", Tree(\"*\", Tree(4.565), Tree(5.5676)), Tree(5.56765))\n",
    "print(t.postorder())\n",
    "print(t.evaluate())\n"
   ]
  },
  {
   "cell_type": "markdown",
   "metadata": {},
   "source": [
    "## Binary Search Tree (BST)\n",
    "\n",
    "Suppose you want search a particular value in a collection of values. Sorting makes searching efficient. You can store the collection of values in a list, sort the list in O(N*log N) and then do binary search in O(logN). But if the values keep getting added/delete dynamically (not all values are available upfront), then this method won't work. Because once you append, list is no longer sorted and hence cannot be binary searched. Insert into the right place in a sorted list takes O(N). You have to scan the entire list to insert at the right place! Can we have maintain the data in such a way that we can add/delete data dynamically and still search without having to sort it repeatedly?\n",
    "\n",
    "Binary Search Tree (BST) is a two-dimensional data structures that supports efficient insert/delete and search.\n",
    "\n",
    "Binary Search Tree is a binary Tree in which\n",
    "\n",
    "    1. For each node, there is a value v\n",
    "    2. Values in left subtree < v\n",
    "    3. Values in right subtree > v\n",
    "    4. No duplicate values\n",
    "    \n",
    "Each node object has three member fields: \"value\", \"left\" and \"right\". left and right point to the children of a node.\n",
    "\n",
    "**Empty node convention**\n",
    "\n",
    "We use an empty node when left or right subtree does not exist. An empty node has value, left and right fields are all set to None. This convention helps in writing in simpler code (avoid lot of None checks which will clutter the code)\n",
    "\n",
    "**Complexity**\n",
    "\n",
    "If the BST is properly balanced, then tree height is O(logN). So insert/delete/find all take O(logN). But depending on the insertion order, the tree height may become O(N) - it just becomes a linked list! So in the worse case, insert/delete/find will take O(N)\n",
    "\n",
    "To fix this issue, we've to use more sophisticated BST variants like AVL (self-balancing Binary Search Tree) which balance the tree as we insert or delete.\n",
    "\n",
    "**Optional: The following video from NPTEL Python course by Prof. Mukund Madhavan**\n",
    "\n",
    "*Note: There are a few bugs in the code shown in the video. seems to have fixed later when the code is shown in green font. The code below is correct and works fine*\n",
    "\n",
    "[Search Trees](https://youtu.be/JEqF-kIzYl8)\n"
   ]
  },
  {
   "cell_type": "code",
   "execution_count": 29,
   "metadata": {},
   "outputs": [
    {
     "name": "stdout",
     "output_type": "stream",
     "text": [
      "[-4, 2, 43, 56, 67]\n",
      "min = -4\n",
      "max = 67\n",
      "[-4, 2, 43, 46, 56, 67]\n",
      "[-4, 43, 46, 56, 67]\n",
      "[-4, 43, 46, 56]\n",
      "[43, 46, 56]\n"
     ]
    }
   ],
   "source": [
    "class Tree:\n",
    "    def __init__(self, initval=None):\n",
    "        self.value = initval\n",
    "        if self.value:\n",
    "            self.left = Tree()\n",
    "            self.right = Tree()\n",
    "        else:\n",
    "            # self.value is None => an empty node\n",
    "            self.left = None\n",
    "            self.right = None\n",
    "    \n",
    "    # is this an empty node?\n",
    "    def isempty(self):\n",
    "        return self.value == None\n",
    "    \n",
    "    # is this a left node?\n",
    "    def isleaf(self):\n",
    "        return self.left.isempty() and self.right.isempty()\n",
    "    \n",
    "    # construct a list of values using inorder traversal.\n",
    "    # NOTE: inorder traversal of a BST returns a list with\n",
    "    # the values in the ascending order!\n",
    "    def inorder(self):\n",
    "        if self.isempty():\n",
    "            return []\n",
    "        else:\n",
    "            return self.left.inorder() + [ self.value ] + self.right.inorder()\n",
    "        \n",
    "    # return string representation of list returned by inorder traversal\n",
    "    def __str__(self):\n",
    "        return str(self.inorder())\n",
    "    \n",
    "    # find if the given value is in this BST\n",
    "    def find(self, value):\n",
    "        # nothing is in empty BST\n",
    "        if self.isempty():\n",
    "            return False\n",
    " \n",
    "        # found in the current node itself!\n",
    "        if self.value == value:\n",
    "            return True\n",
    "        if value < self.value:\n",
    "            # value is less the current node's value\n",
    "            # Value can only be (if at all) in left subtree\n",
    "            return self.left.find(value)\n",
    "        else:\n",
    "            # Value can only (if at all) in right subtree\n",
    "            return self.right.find(value)\n",
    "    \n",
    "    # return the minimum value in this BST\n",
    "    # left most tree has the minimum value\n",
    "    def minval(self):\n",
    "        # assume tree is non-empty\n",
    "        if self.isempty():\n",
    "            raise ValueError(\"no maxval in empty BST\")\n",
    "        \n",
    "        if self.left.isempty():\n",
    "            return self.value\n",
    "        else:\n",
    "            return self.left.minval()\n",
    "    \n",
    "    # return the maximum value in this BST\n",
    "    # right most node has the maximum value\n",
    "    def maxval(self):\n",
    "        # assume tree is non-empty\n",
    "        if self.isempty():\n",
    "            raise ValueError(\"no maxval in empty BST\")\n",
    "            \n",
    "        if self.right.isempty():\n",
    "            return self.value\n",
    "        else:\n",
    "            return self.right.maxval()\n",
    "                \n",
    "    # Try to find the value. If not found, add it where\n",
    "    # the search fails\n",
    "    def insert(self, value):\n",
    "        # If this is an empty node, then set the value.\n",
    "        # Replace left and right with empty nodes so that\n",
    "        # this becomes a proper leaf node. \n",
    "        if self.isempty():\n",
    "            self.value = value\n",
    "            self.left = Tree()\n",
    "            self.right = Tree()\n",
    "            return\n",
    "        \n",
    "        # Value found. Nothing to do!\n",
    "        if self.value == value:\n",
    "            return\n",
    "        \n",
    "        if value < self.value:\n",
    "            # value is smaller than current node's value\n",
    "            # insert in the left subtree\n",
    "            self.left.insert(value)\n",
    "        else:\n",
    "            # value is larger than current node's value\n",
    "            # insert in the right subtree\n",
    "            self.right.insert(value)\n",
    "    \n",
    "    # delete node containing given value (if present)\n",
    "    def delete(self, value):\n",
    "        # nothing to do on an empty tree\n",
    "        if self.isempty():\n",
    "            return\n",
    "        \n",
    "        if value < self.value:\n",
    "            self.left.delete(value)\n",
    "            return\n",
    "        \n",
    "        if value > self.value:\n",
    "            self.right.delete(value)\n",
    "            return\n",
    "        \n",
    "        # value == self.value\n",
    "        if self.isleaf():\n",
    "            # this is a left node. Just make it empty node!\n",
    "            self.makeempty()\n",
    "        elif self.left.isempty():\n",
    "            # This is node with no left child. Copy the\n",
    "            # right child into this node!\n",
    "            self.copyright()\n",
    "        else:\n",
    "            # Find the maximum value in the left subtree.\n",
    "            # Copy the value here and then delete that node\n",
    "            # in which we found maxval.\n",
    "            self.value = self.left.maxval()\n",
    "            self.left.delete(self.left.maxval())\n",
    "    \n",
    "    # make the current node empty\n",
    "    def makeempty(self):\n",
    "        self.value = None\n",
    "        self.left = None\n",
    "        self.right = None\n",
    "        \n",
    "    # copy right child's value, left, right to the current node\n",
    "    def copyright(self):\n",
    "        self.value = self.right.value\n",
    "        self.left = self.right.left\n",
    "        self.right = self.right.right\n",
    "        \n",
    "t = Tree()\n",
    "for i in [43, 56, 2, -4, 67 ]:\n",
    "    t.insert(i)\n",
    "print(t)\n",
    "\n",
    "print(\"min =\", t.minval())\n",
    "print(\"max =\", t.maxval())\n",
    "\n",
    "t.insert(46)\n",
    "print(t)\n",
    "\n",
    "t.delete(2)\n",
    "print(t)\n",
    "\n",
    "t.delete(67)\n",
    "print(t)\n",
    "\n",
    "t.delete(-4)\n",
    "print(t)"
   ]
  },
  {
   "cell_type": "markdown",
   "metadata": {},
   "source": [
    "## Special methods in a class\n",
    "\n",
    "**Dunder or magic** methods in Python are the methods having two prefix and suffix underscores in the method name. Dunder here means “Double Under (Underscores)”. These are used for initialization, operator overloading, iterator implementation, string conversion etc. Few examples for magic methods are: \\_\\_init\\_\\_, \\_\\_add\\_\\_, \\_\\_len\\_\\_, \\_\\_str\\_\\_, \\_\\_iter\\_\\_ etc. **Users of the class do not invoke methods directly. Python interpreter invokes these methods**.\n",
    "\n",
    "The \\_\\_init\\_\\_ method for initialization is invoked without any call, when an instance of a class is created, like constructors in certain other programming languages such as C++, Java."
   ]
  },
  {
   "cell_type": "code",
   "execution_count": 30,
   "metadata": {},
   "outputs": [
    {
     "name": "stdout",
     "output_type": "stream",
     "text": [
      "Point(2, 6)\n",
      "Point(3, 4)\n",
      "__sub__ called\n",
      "Point(-1, 2)\n",
      "__add__ called\n",
      "Point(5, 10)\n",
      "__eq__ called\n",
      "False\n",
      "__eq__ called\n",
      "True\n"
     ]
    }
   ],
   "source": [
    "# Simple 2D Cartesian Point class that demonstrates operator overloading, string conversion\n",
    "class Point:\n",
    "    # constructor that initializes members\n",
    "    def __init__(self, x, y):\n",
    "        self.x = x\n",
    "        self.y = y\n",
    "    \n",
    "    # operator +\n",
    "    def __add__(self, other):\n",
    "        print(\"__add__ called\")\n",
    "        return Point(self.x + other.x, self.y + other.y)\n",
    "    \n",
    "    # operator -\n",
    "    def __sub__(self, other):\n",
    "        print(\"__sub__ called\")\n",
    "        return Point(self.x - other.x, self.y - other.y)\n",
    "    \n",
    "    # value comparison is done by calling __eq__ method\n",
    "    # on the object. Therefore it is not object identity check\n",
    "    # For object identity check, we should use is (or is not)\n",
    "    # operator.\n",
    "    \n",
    "    # operator ==\n",
    "    def __eq__(self, other):\n",
    "        print(\"__eq__ called\")\n",
    "        return self.x == other.x and self.y == other.y\n",
    "    \n",
    "    # method for string conversion - str function calls this\n",
    "    def __str__(self):\n",
    "        return \"Point({0}, {1})\".format(self.x, self.y)\n",
    "    \n",
    "p1 = Point(2, 6)\n",
    "print(str(p1))\n",
    "\n",
    "p2 = Point(3, 4)\n",
    "# print calls str on objects to print - and str will call __str__\n",
    "\n",
    "print(p2)\n",
    "print(p1 - p2)\n",
    "print(p1 + p2)\n",
    "print(p1 == p2)\n",
    "print(p1 != p2)"
   ]
  },
  {
   "cell_type": "markdown",
   "metadata": {},
   "source": [
    "## Iterables and Iterators\n",
    "\n",
    "If you want collection-like or range-like class, you may want to implement your own iterator logic for users to iterate \"elements\" of your object. \n",
    "\n",
    "Python iterator paradigm works as follows:\n",
    "\n",
    "    1. A collection-like or range-like class implements __iter__ method.\n",
    "    The global iter function calls this method to return an iterator for your collection.\n",
    "    Any class that implements __iter__ is called \"Iterable\"\n",
    "        \n",
    "    2. __iter__ returns another object. That object is called Iterator.\n",
    "    \n",
    "    3. The Iterator object implements a method called __next__\n",
    "\n",
    "    4. Global next() method calls this __next__ method to get next element from the iterator\n",
    "    \n",
    "    5. Eventually __next__ method will throws StopIteration exception when it exhausts all elements"
   ]
  },
  {
   "cell_type": "code",
   "execution_count": null,
   "metadata": {},
   "outputs": [],
   "source": [
    "x = [445,56, 66]\n",
    "i = iter(x)\n",
    "while True"
   ]
  },
  {
   "cell_type": "code",
   "execution_count": 31,
   "metadata": {},
   "outputs": [
    {
     "name": "stdout",
     "output_type": "stream",
     "text": [
      "a\n",
      "b\n",
      "c\n",
      "d\n",
      "e\n",
      "f\n",
      "g\n",
      "done\n",
      "a\n",
      "b\n",
      "c\n",
      "d\n",
      "e\n",
      "f\n",
      "g\n"
     ]
    }
   ],
   "source": [
    "# This is an iterator class because it implements __next__ dunder method\n",
    "class CharIterator:\n",
    "    def __init__(self, first, last):\n",
    "        # ordinal of current charactor\n",
    "        self.current = first\n",
    "        # ordinal of last character\n",
    "        self.last = last\n",
    " \n",
    "    # this method is called by \"next\" global method to get next element\n",
    "    # When this exhausted all elements, it throws StopIteration exception\n",
    "    \n",
    "    def __next__(self):\n",
    "        if self.current < self.last:\n",
    "            cur = self.current\n",
    "            # move to the next ordinal value\n",
    "            self.current += 1\n",
    "            return chr(cur)\n",
    "        else:\n",
    "            raise StopIteration()\n",
    "\n",
    "# CharRange is an Iterable because it implements __itr__ dunder method\n",
    "class CharRange:\n",
    "    def __init__(self, first, last):\n",
    "        # store the characters as ordinal values\n",
    "        self.first = ord(first)\n",
    "        self.last = ord(last)\n",
    "    \n",
    "    def __iter__(self):\n",
    "        # create an iterator for this iterable\n",
    "        return CharIterator(self.first, self.last)\n",
    "\n",
    "# iterate through a CharRange and print elements\n",
    "for i in CharRange('a', 'h'):\n",
    "    print(i)\n",
    "\n",
    "print(\"done\")\n",
    "\n",
    "# above for-loop is roughly translated as follows\n",
    "\n",
    "# global iter calls obj.__iter__ to get an iterator object\n",
    "itr = iter(CharRange('a', 'h'))\n",
    "\n",
    "while True:\n",
    "    try:\n",
    "        # global next method calls itr.__next__()\n",
    "        # to get next element from the iterator\n",
    "        i = next(itr)\n",
    "        \n",
    "        # process the element (this is the user code inside for-loop)\n",
    "        print(i)\n",
    "    except StopIteration:\n",
    "        # iterator exhausted and hence threw StopIteration\n",
    "        # => we're done with the loop and so break out of the loop\n",
    "        break"
   ]
  },
  {
   "cell_type": "code",
   "execution_count": 32,
   "metadata": {},
   "outputs": [
    {
     "name": "stdout",
     "output_type": "stream",
     "text": [
      "17\n",
      "62\n"
     ]
    }
   ],
   "source": [
    "## Infinite iterator that returns elements forever!\n",
    "import random\n",
    "\n",
    "# an infinite iterator that keeps returning random\n",
    "# integer in the range [0, 100)\n",
    "\n",
    "class RandomNumberIterator:\n",
    "    # return a random number in the range [0, 100)\n",
    "    def __next__(self):\n",
    "        return random.randrange(0, 100)\n",
    "\n",
    "class RandomNumbers:\n",
    "    def __iter__(self):\n",
    "        return RandomNumberIterator()\n",
    "\n",
    "# Note that this is an infinite loop because __next__ method\n",
    "# never throws StopIteration! So we've to break it somehow.\n",
    "for i in RandomNumbers():\n",
    "    print(i)\n",
    "    # if we got a number more than 50, we get it out of here\n",
    "    if i > 50:\n",
    "        break\n",
    "\n",
    "# if you run this cell many times, you'll see different number of random numbers"
   ]
  }
 ],
 "metadata": {
  "kernelspec": {
   "display_name": "Python 3",
   "language": "python",
   "name": "python3"
  },
  "language_info": {
   "codemirror_mode": {
    "name": "ipython",
    "version": 3
   },
   "file_extension": ".py",
   "mimetype": "text/x-python",
   "name": "python",
   "nbconvert_exporter": "python",
   "pygments_lexer": "ipython3",
   "version": "3.7.6"
  }
 },
 "nbformat": 4,
 "nbformat_minor": 2
}
